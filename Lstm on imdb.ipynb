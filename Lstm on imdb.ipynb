{
  "nbformat": 4,
  "nbformat_minor": 0,
  "metadata": {
    "colab": {
      "provenance": []
    },
    "kernelspec": {
      "name": "python3",
      "display_name": "Python 3"
    },
    "language_info": {
      "name": "python"
    },
    "accelerator": "GPU",
    "gpuClass": "standard"
  },
  "cells": [
    {
      "cell_type": "code",
      "execution_count": null,
      "metadata": {
        "id": "BKEgfs1545e_"
      },
      "outputs": [],
      "source": [
        "import numpy as np \n",
        "import pandas as pd \n",
        "import matplotlib.pyplot as plt \n",
        "from keras.datasets import imdb \n",
        "from keras.models import Sequential \n",
        "from keras.layers import Dense, LSTM, Embedding \n",
        "from keras.preprocessing import sequence \n",
        "from keras_preprocessing.sequence import pad_sequences"
      ]
    },
    {
      "cell_type": "code",
      "source": [
        "top_words = 5000 \n",
        "(X_train, Y_train), (X_test, Y_test) = imdb.load_data(num_words=top_words)"
      ],
      "metadata": {
        "colab": {
          "base_uri": "https://localhost:8080/"
        },
        "id": "DT0UqjOJ5UXg",
        "outputId": "0ce12b5d-5ed1-45cc-c844-42b96c85383e"
      },
      "execution_count": null,
      "outputs": [
        {
          "output_type": "stream",
          "name": "stdout",
          "text": [
            "Downloading data from https://storage.googleapis.com/tensorflow/tf-keras-datasets/imdb.npz\n",
            "17464789/17464789 [==============================] - 1s 0us/step\n"
          ]
        }
      ]
    },
    {
      "cell_type": "code",
      "source": [
        "max_review_length = 600 \n",
        "\n",
        "X_train = pad_sequences(X_train, maxlen=max_review_length) \n",
        "X_test = pad_sequences(X_test, maxlen=max_review_length) "
      ],
      "metadata": {
        "id": "xe8xW3-25luT"
      },
      "execution_count": null,
      "outputs": []
    },
    {
      "cell_type": "code",
      "source": [
        "X_train.shape"
      ],
      "metadata": {
        "colab": {
          "base_uri": "https://localhost:8080/"
        },
        "id": "JFG0ZTdm6ARd",
        "outputId": "d3af52e8-ea7f-47b6-fcf1-47d29e0f395b"
      },
      "execution_count": null,
      "outputs": [
        {
          "output_type": "execute_result",
          "data": {
            "text/plain": [
              "(25000, 600)"
            ]
          },
          "metadata": {},
          "execution_count": 4
        }
      ]
    },
    {
      "cell_type": "code",
      "source": [
        "print(X_train[1])"
      ],
      "metadata": {
        "colab": {
          "base_uri": "https://localhost:8080/"
        },
        "id": "wceSM4Y_6BpO",
        "outputId": "feedb0da-29ea-4a80-f384-0f6123e8b27b"
      },
      "execution_count": null,
      "outputs": [
        {
          "output_type": "stream",
          "name": "stdout",
          "text": [
            "[   0    0    0    0    0    0    0    0    0    0    0    0    0    0\n",
            "    0    0    0    0    0    0    0    0    0    0    0    0    0    0\n",
            "    0    0    0    0    0    0    0    0    0    0    0    0    0    0\n",
            "    0    0    0    0    0    0    0    0    0    0    0    0    0    0\n",
            "    0    0    0    0    0    0    0    0    0    0    0    0    0    0\n",
            "    0    0    0    0    0    0    0    0    0    0    0    0    0    0\n",
            "    0    0    0    0    0    0    0    0    0    0    0    0    0    0\n",
            "    0    0    0    0    0    0    0    0    0    0    0    0    0    0\n",
            "    0    0    0    0    0    0    0    0    0    0    0    0    0    0\n",
            "    0    0    0    0    0    0    0    0    0    0    0    0    0    0\n",
            "    0    0    0    0    0    0    0    0    0    0    0    0    0    0\n",
            "    0    0    0    0    0    0    0    0    0    0    0    0    0    0\n",
            "    0    0    0    0    0    0    0    0    0    0    0    0    0    0\n",
            "    0    0    0    0    0    0    0    0    0    0    0    0    0    0\n",
            "    0    0    0    0    0    0    0    0    0    0    0    0    0    0\n",
            "    0    0    0    0    0    0    0    0    0    0    0    0    0    0\n",
            "    0    0    0    0    0    0    0    0    0    0    0    0    0    0\n",
            "    0    0    0    0    0    0    0    0    0    0    0    0    0    0\n",
            "    0    0    0    0    0    0    0    0    0    0    0    0    0    0\n",
            "    0    0    0    0    0    0    0    0    0    0    0    0    0    0\n",
            "    0    0    0    0    0    0    0    0    0    0    0    0    0    0\n",
            "    0    0    0    0    0    0    0    0    0    0    0    0    0    0\n",
            "    0    0    0    0    0    0    0    0    0    0    0    0    0    0\n",
            "    0    0    0    0    0    0    0    0    0    0    0    0    0    0\n",
            "    0    0    0    0    0    0    0    0    0    0    0    0    0    0\n",
            "    0    0    0    0    0    0    0    0    0    0    0    0    0    0\n",
            "    0    0    0    0    0    0    0    0    0    0    0    0    0    0\n",
            "    0    0    0    0    0    0    0    0    0    0    0    0    0    0\n",
            "    0    0    0    0    0    0    0    0    0    0    0    0    0    0\n",
            "    0    0    0    0    0    1  194 1153  194    2   78  228    5    6\n",
            " 1463 4369    2  134   26    4  715    8  118 1634   14  394   20   13\n",
            "  119  954  189  102    5  207  110 3103   21   14   69  188    8   30\n",
            "   23    7    4  249  126   93    4  114    9 2300 1523    5  647    4\n",
            "  116    9   35    2    4  229    9  340 1322    4  118    9    4  130\n",
            " 4901   19    4 1002    5   89   29  952   46   37    4  455    9   45\n",
            "   43   38 1543 1905  398    4 1649   26    2    5  163   11 3215    2\n",
            "    4 1153    9  194  775    7    2    2  349 2637  148  605    2    2\n",
            "   15  123  125   68    2    2   15  349  165 4362   98    5    4  228\n",
            "    9   43    2 1157   15  299  120    5  120  174   11  220  175  136\n",
            "   50    9 4373  228    2    5    2  656  245 2350    5    4    2  131\n",
            "  152  491   18    2   32    2 1212   14    9    6  371   78   22  625\n",
            "   64 1382    9    8  168  145   23    4 1690   15   16    4 1355    5\n",
            "   28    6   52  154  462   33   89   78  285   16  145   95]\n"
          ]
        }
      ]
    },
    {
      "cell_type": "code",
      "source": [
        "import tensorflow as tf\n",
        "\n",
        "embedding_vector_length = 32 \n",
        "\n",
        "model = Sequential() \n",
        "\n",
        "model.add(Embedding(top_words+1, embedding_vector_length, input_length=max_review_length))\n",
        "model.add(LSTM(100)) \n",
        "model.add(Dense(1, activation='sigmoid')) \n",
        "\n",
        "model.compile(loss='binary_crossentropy', optimizer='adam', metrics=['accuracy']) \n",
        "\n",
        "print(model.summary())"
      ],
      "metadata": {
        "colab": {
          "base_uri": "https://localhost:8080/"
        },
        "id": "drPWkjF16EoQ",
        "outputId": "cd599d61-b1bb-4c4e-9788-270829b6e65d"
      },
      "execution_count": null,
      "outputs": [
        {
          "output_type": "stream",
          "name": "stdout",
          "text": [
            "Model: \"sequential\"\n",
            "_________________________________________________________________\n",
            " Layer (type)                Output Shape              Param #   \n",
            "=================================================================\n",
            " embedding (Embedding)       (None, 600, 32)           160032    \n",
            "                                                                 \n",
            " lstm (LSTM)                 (None, 100)               53200     \n",
            "                                                                 \n",
            " dense (Dense)               (None, 1)                 101       \n",
            "                                                                 \n",
            "=================================================================\n",
            "Total params: 213,333\n",
            "Trainable params: 213,333\n",
            "Non-trainable params: 0\n",
            "_________________________________________________________________\n",
            "None\n"
          ]
        }
      ]
    },
    {
      "cell_type": "code",
      "source": [
        "hist = model.fit(X_train, Y_train, batch_size=64, epochs=10, verbose=1, validation_data=(X_test, Y_test))"
      ],
      "metadata": {
        "colab": {
          "base_uri": "https://localhost:8080/"
        },
        "id": "D9uDoCrT7BDb",
        "outputId": "7a2ef014-810e-47a7-c049-def1139aac4f"
      },
      "execution_count": null,
      "outputs": [
        {
          "output_type": "stream",
          "name": "stdout",
          "text": [
            "Epoch 1/10\n",
            "391/391 [==============================] - 25s 49ms/step - loss: 0.4820 - accuracy: 0.7678 - val_loss: 0.4440 - val_accuracy: 0.7974\n",
            "Epoch 2/10\n",
            "391/391 [==============================] - 18s 46ms/step - loss: 0.3574 - accuracy: 0.8528 - val_loss: 0.3656 - val_accuracy: 0.8531\n",
            "Epoch 3/10\n",
            "391/391 [==============================] - 31s 80ms/step - loss: 0.2759 - accuracy: 0.8919 - val_loss: 0.3589 - val_accuracy: 0.8605\n",
            "Epoch 4/10\n",
            "391/391 [==============================] - 26s 68ms/step - loss: 0.2408 - accuracy: 0.9080 - val_loss: 0.3194 - val_accuracy: 0.8730\n",
            "Epoch 5/10\n",
            "391/391 [==============================] - 23s 59ms/step - loss: 0.2402 - accuracy: 0.9050 - val_loss: 0.3279 - val_accuracy: 0.8657\n",
            "Epoch 6/10\n",
            "391/391 [==============================] - 22s 56ms/step - loss: 0.2004 - accuracy: 0.9249 - val_loss: 0.3174 - val_accuracy: 0.8713\n",
            "Epoch 7/10\n",
            "391/391 [==============================] - 28s 72ms/step - loss: 0.2347 - accuracy: 0.9073 - val_loss: 0.3540 - val_accuracy: 0.8514\n",
            "Epoch 8/10\n",
            "391/391 [==============================] - 28s 71ms/step - loss: 0.1692 - accuracy: 0.9370 - val_loss: 0.3696 - val_accuracy: 0.8628\n",
            "Epoch 9/10\n",
            "391/391 [==============================] - 18s 47ms/step - loss: 0.1412 - accuracy: 0.9495 - val_loss: 0.3711 - val_accuracy: 0.8656\n",
            "Epoch 10/10\n",
            "391/391 [==============================] - 18s 47ms/step - loss: 0.1330 - accuracy: 0.9515 - val_loss: 0.4356 - val_accuracy: 0.8564\n"
          ]
        }
      ]
    },
    {
      "cell_type": "code",
      "source": [
        "score = model.evaluate(X_test, Y_test, verbose=0) \n",
        "print('Test Loss:', score[0]) \n",
        "print('Test Accuracy:', score[1])"
      ],
      "metadata": {
        "colab": {
          "base_uri": "https://localhost:8080/"
        },
        "id": "Z0QvFIHw7R7Y",
        "outputId": "ed247687-a6da-493a-df58-905102acd6ab"
      },
      "execution_count": null,
      "outputs": [
        {
          "output_type": "stream",
          "name": "stdout",
          "text": [
            "Test Loss: 0.43563663959503174\n",
            "Test Accuracy: 0.8564000129699707\n"
          ]
        }
      ]
    },
    {
      "cell_type": "code",
      "source": [
        "fig = plt.figure() \n",
        "\n",
        "plt.subplot(2, 1, 1) \n",
        "plt.plot(hist.history['accuracy']) \n",
        "plt.plot(hist.history['val_accuracy']) \n",
        "plt.xlabel(\"Epoch\") \n",
        "plt.ylabel(\"Accuracy\") \n",
        "plt.title(\"Model Accuracy\") \n",
        "plt.legend(['accuracy', 'val_accuracy'], loc='lower right')  \n",
        "\n",
        "plt.subplot(2, 1, 2) \n",
        "plt.plot(hist.history['loss']) \n",
        "plt.plot(hist.history['val_loss']) \n",
        "plt.xlabel(\"Epoch\") \n",
        "plt.ylabel(\"Loss\") \n",
        "plt.title(\"Model Loss\") \n",
        "plt.legend(['loss', 'val_loss'], loc='lower right')  "
      ],
      "metadata": {
        "colab": {
          "base_uri": "https://localhost:8080/",
          "height": 312
        },
        "id": "wpvBuHrf7sD8",
        "outputId": "2760c56c-a5f6-4497-e7b1-ab714d4ba675"
      },
      "execution_count": null,
      "outputs": [
        {
          "output_type": "execute_result",
          "data": {
            "text/plain": [
              "<matplotlib.legend.Legend at 0x7f9ca79cad60>"
            ]
          },
          "metadata": {},
          "execution_count": 9
        },
        {
          "output_type": "display_data",
          "data": {
            "text/plain": [
              "<Figure size 432x288 with 2 Axes>"
            ],
            "image/png": "[encoded data removed]"
          },
          "metadata": {
            "needs_background": "light"
          }
        }
      ]
    },
    {
      "cell_type": "code",
      "source": [],
      "metadata": {
        "id": "Onx_ggwo8toa"
      },
      "execution_count": null,
      "outputs": []
    }
  ]
}
