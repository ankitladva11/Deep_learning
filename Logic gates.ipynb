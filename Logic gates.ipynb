{
  "nbformat": 4,
  "nbformat_minor": 0,
  "metadata": {
    "colab": {
      "provenance": []
    },
    "kernelspec": {
      "name": "python3",
      "display_name": "Python 3"
    },
    "language_info": {
      "name": "python"
    }
  },
  "cells": [
    {
      "cell_type": "code",
      "execution_count": null,
      "metadata": {
        "id": "HnlUyoRvqrXu"
      },
      "outputs": [],
      "source": [
        "import numpy as np"
      ]
    },
    {
      "cell_type": "code",
      "source": [
        "def step(Y_in): \n",
        "  if Y_in<0:\n",
        "    return 0 \n",
        "  else:\n",
        "    return 1 "
      ],
      "metadata": {
        "id": "s3jJztLfq6aU"
      },
      "execution_count": null,
      "outputs": []
    },
    {
      "cell_type": "code",
      "source": [
        "def perceptron(x, w, b):\n",
        "  y_in = np.dot(x, w) + b \n",
        "  return step(y_in)"
      ],
      "metadata": {
        "id": "8b5028Ayrcgj"
      },
      "execution_count": null,
      "outputs": []
    },
    {
      "cell_type": "markdown",
      "source": [
        "# **AND GATE**"
      ],
      "metadata": {
        "id": "jsLdti5bt6At"
      }
    },
    {
      "cell_type": "code",
      "source": [
        "def AND(x): \n",
        "  w = np.array([1,1])\n",
        "  b = -2 \n",
        "  return perceptron(x, w, b) "
      ],
      "metadata": {
        "id": "kWUv8mktsHbq"
      },
      "execution_count": null,
      "outputs": []
    },
    {
      "cell_type": "code",
      "source": [
        "test = np.array([[0,0], [0,1], [1,0], [1,1]]) \n",
        "for i in test: \n",
        "  print(i[0], \"AND\", i[1], 'is', AND(i))"
      ],
      "metadata": {
        "colab": {
          "base_uri": "https://localhost:8080/"
        },
        "id": "r38f6S5zsoF5",
        "outputId": "680d8f28-429c-4cea-a627-08efe0f1e4fc"
      },
      "execution_count": null,
      "outputs": [
        {
          "output_type": "stream",
          "name": "stdout",
          "text": [
            "0 AND 0 is 0\n",
            "0 AND 1 is 0\n",
            "1 AND 0 is 0\n",
            "1 AND 1 is 1\n"
          ]
        }
      ]
    },
    {
      "cell_type": "markdown",
      "source": [
        "# **OR GATE**"
      ],
      "metadata": {
        "id": "nG2X834GtjWW"
      }
    },
    {
      "cell_type": "code",
      "source": [
        "def OR(x): \n",
        "  w = np.array([1,1]) \n",
        "  b = -1 \n",
        "  return perceptron(x, w, b)"
      ],
      "metadata": {
        "id": "0js8iV9js6Hg"
      },
      "execution_count": null,
      "outputs": []
    },
    {
      "cell_type": "code",
      "source": [
        "test = np.array([[0,0], [0,1], [1,0], [1,1]]) \n",
        "for i in test: \n",
        "  print(i[0], \"OR\", i[1], 'is', OR(i))"
      ],
      "metadata": {
        "colab": {
          "base_uri": "https://localhost:8080/"
        },
        "id": "XnZjLdxUt3cN",
        "outputId": "53bcb36b-1a58-44fc-e03b-9ba82c7d9f47"
      },
      "execution_count": null,
      "outputs": [
        {
          "output_type": "stream",
          "name": "stdout",
          "text": [
            "0 OR 0 is 0\n",
            "0 OR 1 is 1\n",
            "1 OR 0 is 1\n",
            "1 OR 1 is 1\n"
          ]
        }
      ]
    },
    {
      "cell_type": "markdown",
      "source": [
        "# **NOT GATE**"
      ],
      "metadata": {
        "id": "qFOpX-3Lugx8"
      }
    },
    {
      "cell_type": "code",
      "source": [
        "def NOT(x): \n",
        "  w = -1 \n",
        "  b = 0 \n",
        "  return perceptron(x, w, b)"
      ],
      "metadata": {
        "id": "oWzDvvLft5Qd"
      },
      "execution_count": null,
      "outputs": []
    },
    {
      "cell_type": "code",
      "source": [
        "test = np.array([0, 1]) \n",
        "for i in test: \n",
        "  print(\"NOT of\", i, 'is', NOT(i))"
      ],
      "metadata": {
        "colab": {
          "base_uri": "https://localhost:8080/"
        },
        "id": "rdmJl1ZLuaGl",
        "outputId": "a2d56855-4717-48bd-9242-1d7356d6f037"
      },
      "execution_count": null,
      "outputs": [
        {
          "output_type": "stream",
          "name": "stdout",
          "text": [
            "NOT of 0 is 1\n",
            "NOT of 1 is 0\n"
          ]
        }
      ]
    },
    {
      "cell_type": "markdown",
      "source": [
        "# **NAND GATE**"
      ],
      "metadata": {
        "id": "Qes6tat6uqPF"
      }
    },
    {
      "cell_type": "code",
      "source": [
        "def NAND(test):\n",
        "  test1 = AND(test) \n",
        "  return NOT(test1) \n",
        "\n",
        "test = np.array([[0,0], [0,1], [1,0], [1,1]]) \n",
        "for i in test: \n",
        "  print(i[0], \"NAND\", i[1], 'is', NAND(i))"
      ],
      "metadata": {
        "colab": {
          "base_uri": "https://localhost:8080/"
        },
        "id": "iYJCQuXcufW1",
        "outputId": "59d2db9d-8e13-4672-99f1-f1b3b9712d3c"
      },
      "execution_count": null,
      "outputs": [
        {
          "output_type": "stream",
          "name": "stdout",
          "text": [
            "0 NAND 0 is 1\n",
            "0 NAND 1 is 1\n",
            "1 NAND 0 is 1\n",
            "1 NAND 1 is 0\n"
          ]
        }
      ]
    },
    {
      "cell_type": "markdown",
      "source": [
        "# **NOR GATE**"
      ],
      "metadata": {
        "id": "RyDPI_vXveSV"
      }
    },
    {
      "cell_type": "code",
      "source": [
        "def NOR(test): \n",
        "  test1 = OR(test) \n",
        "  return NOT(test1)\n",
        "\n",
        "test = np.array([[0,0], [0,1], [1,0], [1,1]]) \n",
        "for i in test: \n",
        "  print(i[0], \"NOR\", i[1], 'is', NOR(i))"
      ],
      "metadata": {
        "colab": {
          "base_uri": "https://localhost:8080/"
        },
        "id": "bwRU9shnvRie",
        "outputId": "e86af238-9a3e-4b9b-d5cd-e6f958930b8d"
      },
      "execution_count": null,
      "outputs": [
        {
          "output_type": "stream",
          "name": "stdout",
          "text": [
            "0 NOR 0 is 1\n",
            "0 NOR 1 is 0\n",
            "1 NOR 0 is 0\n",
            "1 NOR 1 is 0\n"
          ]
        }
      ]
    },
    {
      "cell_type": "markdown",
      "source": [
        "# **EXOR GATE**"
      ],
      "metadata": {
        "id": "RRclvONgvoV0"
      }
    },
    {
      "cell_type": "code",
      "source": [
        "def EXOR(x): \n",
        "  xor1 = NAND(x) \n",
        "  xor2 = OR(x) \n",
        "  return AND(np.array([xor1, xor2]))\n",
        "\n",
        "test = np.array([[0,0], [0,1], [1,0], [1,1]]) \n",
        "for i in test: \n",
        "  print(i[0], \"EXOR\", i[1], 'is', EXOR(i))"
      ],
      "metadata": {
        "colab": {
          "base_uri": "https://localhost:8080/"
        },
        "id": "JlTdrkg5vnHs",
        "outputId": "11803eba-6638-4f97-faf2-28bba62d0045"
      },
      "execution_count": null,
      "outputs": [
        {
          "output_type": "stream",
          "name": "stdout",
          "text": [
            "0 EXOR 0 is 0\n",
            "0 EXOR 1 is 1\n",
            "1 EXOR 0 is 1\n",
            "1 EXOR 1 is 0\n"
          ]
        }
      ]
    },
    {
      "cell_type": "code",
      "source": [],
      "metadata": {
        "id": "YFB9hJNZxg6c"
      },
      "execution_count": null,
      "outputs": []
    }
  ]
}
