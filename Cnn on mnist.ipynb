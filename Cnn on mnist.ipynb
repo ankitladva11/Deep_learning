{
  "nbformat": 4,
  "nbformat_minor": 0,
  "metadata": {
    "colab": {
      "provenance": []
    },
    "kernelspec": {
      "name": "python3",
      "display_name": "Python 3"
    },
    "language_info": {
      "name": "python"
    },
    "accelerator": "GPU",
    "gpuClass": "standard"
  },
  "cells": [
    {
      "cell_type": "code",
      "execution_count": 1,
      "metadata": {
        "id": "cwSVTmOOHWTB"
      },
      "outputs": [],
      "source": [
        "from keras.models import Sequential \n",
        "from keras.layers import Dropout, Flatten, Dense, Conv2D, MaxPooling2D"
      ]
    },
    {
      "cell_type": "code",
      "source": [
        "import keras\n",
        "from keras.datasets import mnist \n",
        "(X_train, Y_train), (X_test, Y_test) = mnist.load_data() "
      ],
      "metadata": {
        "id": "NUmLS4xRHiRH"
      },
      "execution_count": 2,
      "outputs": []
    },
    {
      "cell_type": "code",
      "source": [
        "import matplotlib.pyplot as plt\n",
        "import numpy as np \n",
        "fig = plt.figure(figsize=(10, 10)) \n",
        "for i in range(1, 16): \n",
        "  rn = np.random.randint(60000)\n",
        "  fig.add_subplot(3, 5, i) \n",
        "  plt.imshow(X_train[rn], cmap='gray')\n",
        "  plt.xlabel(Y_train[rn], color='g') \n",
        "plt.show()"
      ],
      "metadata": {
        "colab": {
          "base_uri": "https://localhost:8080/",
          "height": 544
        },
        "id": "N97c4Y7HHsww",
        "outputId": "59cb1333-c850-4055-d3c0-7bd60f10c76e"
      },
      "execution_count": 3,
      "outputs": [
        {
          "output_type": "display_data",
          "data": {
            "text/plain": [
              "<Figure size 720x720 with 15 Axes>"
            ],
            "image/png": "[encoded data removed]"
          },
          "metadata": {
            "needs_background": "light"
          }
        }
      ]
    },
    {
      "cell_type": "code",
      "source": [
        "img_rows, img_cols = 28, 28"
      ],
      "metadata": {
        "id": "4fLGMT8AIQhY"
      },
      "execution_count": 4,
      "outputs": []
    },
    {
      "cell_type": "code",
      "source": [
        "from keras import backend as k \n",
        "if k.image_data_format()=='channels_first': \n",
        "  X_train = X_train.reshape(X_train.shape[0], 1, img_rows, img_cols) \n",
        "  X_test = X_test.reshape(X_test.shape[0], 1, img_rows, img_cols) \n",
        "  input_shape = (1, img_rows, img_cols) \n",
        "else: \n",
        "  X_train = X_train.reshape(X_train.shape[0], img_rows, img_cols, 1) \n",
        "  X_test = X_test.reshape(X_test.shape[0], img_rows, img_cols, 1) \n",
        "  input_shape = (img_rows, img_cols, 1) \n",
        "\n",
        "X_train = X_train.astype('float32') \n",
        "X_test = X_test.astype('float32') \n",
        "X_train = X_train/255 \n",
        "X_test = X_test/255 "
      ],
      "metadata": {
        "id": "hviIocbyIUyl"
      },
      "execution_count": 5,
      "outputs": []
    },
    {
      "cell_type": "code",
      "source": [
        "print('X_train shape:', X_train.shape)"
      ],
      "metadata": {
        "colab": {
          "base_uri": "https://localhost:8080/"
        },
        "id": "qVXpg6hOJF4I",
        "outputId": "61edf38d-3a34-4484-fb88-9b654570dc71"
      },
      "execution_count": 6,
      "outputs": [
        {
          "output_type": "stream",
          "name": "stdout",
          "text": [
            "X_train shape: (60000, 28, 28, 1)\n"
          ]
        }
      ]
    },
    {
      "cell_type": "code",
      "source": [
        "print(X_train.shape[0], 'train samples')\n",
        "print(X_test.shape[0], 'test samples')"
      ],
      "metadata": {
        "colab": {
          "base_uri": "https://localhost:8080/"
        },
        "id": "7lH4FN4YJRSd",
        "outputId": "06b5526b-3f48-4265-858f-380efebc2bc6"
      },
      "execution_count": 7,
      "outputs": [
        {
          "output_type": "stream",
          "name": "stdout",
          "text": [
            "60000 train samples\n",
            "10000 test samples\n"
          ]
        }
      ]
    },
    {
      "cell_type": "code",
      "source": [
        "print(np.unique(Y_train, return_counts=True))"
      ],
      "metadata": {
        "colab": {
          "base_uri": "https://localhost:8080/"
        },
        "id": "zRYbV9MLJdyB",
        "outputId": "a8df120c-c420-4044-fbcf-d096295122ef"
      },
      "execution_count": 8,
      "outputs": [
        {
          "output_type": "stream",
          "name": "stdout",
          "text": [
            "(array([0, 1, 2, 3, 4, 5, 6, 7, 8, 9], dtype=uint8), array([5923, 6742, 5958, 6131, 5842, 5421, 5918, 6265, 5851, 5949]))\n"
          ]
        }
      ]
    },
    {
      "cell_type": "code",
      "source": [
        "num_classes = 10 \n",
        "Y_train = keras.utils.to_categorical(Y_train, num_classes)\n",
        "Y_test = keras.utils.to_categorical(Y_test, num_classes)"
      ],
      "metadata": {
        "id": "Ls41jYKeJifJ"
      },
      "execution_count": 9,
      "outputs": []
    },
    {
      "cell_type": "code",
      "source": [
        "def build_model(): \n",
        "  model = Sequential() \n",
        "\n",
        "  model.add(Conv2D(32, kernel_size=(3,3), activation='relu', input_shape=input_shape)) \n",
        "\n",
        "  model.add(MaxPooling2D(pool_size=(2, 2))) \n",
        "\n",
        "  model.add(Conv2D(32, kernel_size=(3,3), activation='relu')) \n",
        "\n",
        "  model.add(MaxPooling2D(pool_size=(2, 2))) \n",
        "\n",
        "  model.add(Dropout(0.25)) \n",
        "\n",
        "  model.add(Flatten())\n",
        "\n",
        "  model.add(Dense(256, activation='relu')) \n",
        "\n",
        "  model.add(Dropout(0.5)) \n",
        "\n",
        "  model.add(Dense(num_classes, activation='softmax')) \n",
        "\n",
        "  model.compile(loss=keras.losses.categorical_crossentropy, optimizer='adam', metrics=['accuracy']) \n",
        "\n",
        "  model.summary() \n",
        "\n",
        "  return model "
      ],
      "metadata": {
        "id": "Qt2RixqIJsUy"
      },
      "execution_count": 10,
      "outputs": []
    },
    {
      "cell_type": "code",
      "source": [
        "num_epoch = 10 \n",
        "batch_size = 64 \n",
        "\n",
        "model = build_model() \n",
        "model_log = model.fit(X_train, Y_train, batch_size=64, epochs=num_epoch, verbose=1, validation_data=(X_test, Y_test))"
      ],
      "metadata": {
        "colab": {
          "base_uri": "https://localhost:8080/"
        },
        "id": "QwZcTMajKyVi",
        "outputId": "8a37e60d-e484-4ae6-8222-03421876b2aa"
      },
      "execution_count": 11,
      "outputs": [
        {
          "output_type": "stream",
          "name": "stdout",
          "text": [
            "Model: \"sequential\"\n",
            "_________________________________________________________________\n",
            " Layer (type)                Output Shape              Param #   \n",
            "=================================================================\n",
            " conv2d (Conv2D)             (None, 26, 26, 32)        320       \n",
            "                                                                 \n",
            " max_pooling2d (MaxPooling2D  (None, 13, 13, 32)       0         \n",
            " )                                                               \n",
            "                                                                 \n",
            " conv2d_1 (Conv2D)           (None, 11, 11, 32)        9248      \n",
            "                                                                 \n",
            " max_pooling2d_1 (MaxPooling  (None, 5, 5, 32)         0         \n",
            " 2D)                                                             \n",
            "                                                                 \n",
            " dropout (Dropout)           (None, 5, 5, 32)          0         \n",
            "                                                                 \n",
            " flatten (Flatten)           (None, 800)               0         \n",
            "                                                                 \n",
            " dense (Dense)               (None, 256)               205056    \n",
            "                                                                 \n",
            " dropout_1 (Dropout)         (None, 256)               0         \n",
            "                                                                 \n",
            " dense_1 (Dense)             (None, 10)                2570      \n",
            "                                                                 \n",
            "=================================================================\n",
            "Total params: 217,194\n",
            "Trainable params: 217,194\n",
            "Non-trainable params: 0\n",
            "_________________________________________________________________\n",
            "Epoch 1/10\n",
            "938/938 [==============================] - 12s 9ms/step - loss: 0.2407 - accuracy: 0.9250 - val_loss: 0.0573 - val_accuracy: 0.9827\n",
            "Epoch 2/10\n",
            "938/938 [==============================] - 8s 8ms/step - loss: 0.0839 - accuracy: 0.9741 - val_loss: 0.0368 - val_accuracy: 0.9877\n",
            "Epoch 3/10\n",
            "938/938 [==============================] - 5s 5ms/step - loss: 0.0651 - accuracy: 0.9801 - val_loss: 0.0356 - val_accuracy: 0.9886\n",
            "Epoch 4/10\n",
            "938/938 [==============================] - 5s 5ms/step - loss: 0.0531 - accuracy: 0.9838 - val_loss: 0.0266 - val_accuracy: 0.9921\n",
            "Epoch 5/10\n",
            "938/938 [==============================] - 5s 5ms/step - loss: 0.0478 - accuracy: 0.9847 - val_loss: 0.0245 - val_accuracy: 0.9924\n",
            "Epoch 6/10\n",
            "938/938 [==============================] - 5s 5ms/step - loss: 0.0409 - accuracy: 0.9872 - val_loss: 0.0269 - val_accuracy: 0.9911\n",
            "Epoch 7/10\n",
            "938/938 [==============================] - 5s 5ms/step - loss: 0.0376 - accuracy: 0.9885 - val_loss: 0.0216 - val_accuracy: 0.9931\n",
            "Epoch 8/10\n",
            "938/938 [==============================] - 5s 5ms/step - loss: 0.0338 - accuracy: 0.9895 - val_loss: 0.0211 - val_accuracy: 0.9933\n",
            "Epoch 9/10\n",
            "938/938 [==============================] - 5s 5ms/step - loss: 0.0321 - accuracy: 0.9901 - val_loss: 0.0237 - val_accuracy: 0.9925\n",
            "Epoch 10/10\n",
            "938/938 [==============================] - 5s 5ms/step - loss: 0.0308 - accuracy: 0.9900 - val_loss: 0.0218 - val_accuracy: 0.9934\n"
          ]
        }
      ]
    },
    {
      "cell_type": "code",
      "source": [
        "score = model.evaluate(X_test, Y_test, verbose=0) \n",
        "print('Test Loss:', score[0]) \n",
        "print('Test Accuracy:', score[1])"
      ],
      "metadata": {
        "colab": {
          "base_uri": "https://localhost:8080/"
        },
        "id": "qMzGVo_hLF74",
        "outputId": "4417d6b4-f461-4aff-9b33-0320549ca98c"
      },
      "execution_count": 12,
      "outputs": [
        {
          "output_type": "stream",
          "name": "stdout",
          "text": [
            "Test Loss: 0.02177574299275875\n",
            "Test Accuracy: 0.993399977684021\n"
          ]
        }
      ]
    },
    {
      "cell_type": "code",
      "source": [
        "fig = plt.figure() \n",
        "\n",
        "plt.subplot(2, 1, 1) \n",
        "plt.plot(model_log.history['accuracy']) \n",
        "plt.plot(model_log.history['val_accuracy']) \n",
        "plt.title('ADAM Model Accruacy') \n",
        "plt.xlabel(\"Epoch\") \n",
        "plt.ylabel(\"Accuracy\") \n",
        "plt.legend(['train', 'test'], loc='lower right')\n",
        "\n",
        "plt.subplot(2, 1, 2) \n",
        "plt.plot(model_log.history['loss']) \n",
        "plt.plot(model_log.history['val_loss']) \n",
        "plt.title('ADAM Model Loss') \n",
        "plt.xlabel(\"Epoch\") \n",
        "plt.ylabel(\"Loss\") \n",
        "plt.legend(['train', 'test'], loc='lower right')\n",
        "\n",
        "plt.tight_layout() "
      ],
      "metadata": {
        "colab": {
          "base_uri": "https://localhost:8080/",
          "height": 297
        },
        "id": "YFI1szZrLd1V",
        "outputId": "8e778c52-43f3-41d4-b102-fbe4c28122ab"
      },
      "execution_count": 13,
      "outputs": [
        {
          "output_type": "display_data",
          "data": {
            "text/plain": [
              "<Figure size 432x288 with 2 Axes>"
            ],
            "image/png": "[encoded data removed]"
          },
          "metadata": {
            "needs_background": "light"
          }
        }
      ]
    },
    {
      "cell_type": "code",
      "source": [
        "def build_model(): \n",
        "  model = Sequential() \n",
        "\n",
        "  model.add(Conv2D(32, kernel_size=(3,3), activation='relu', input_shape=input_shape)) \n",
        "\n",
        "  model.add(MaxPooling2D(pool_size=(2, 2))) \n",
        "\n",
        "  model.add(Conv2D(32, kernel_size=(3,3), activation='relu')) \n",
        "\n",
        "  model.add(MaxPooling2D(pool_size=(2, 2))) \n",
        "\n",
        "  model.add(Dropout(0.25)) \n",
        "\n",
        "  model.add(Flatten())\n",
        "\n",
        "  model.add(Dense(256, activation='relu')) \n",
        "\n",
        "  model.add(Dropout(0.5)) \n",
        "\n",
        "  model.add(Dense(num_classes, activation='softmax')) \n",
        "\n",
        "  model.compile(loss=keras.losses.categorical_crossentropy, optimizer='Adagrad', metrics=['accuracy']) \n",
        "\n",
        "  model.summary() \n",
        "\n",
        "  return model "
      ],
      "metadata": {
        "id": "CUo1WG60NASc"
      },
      "execution_count": 14,
      "outputs": []
    },
    {
      "cell_type": "code",
      "source": [
        "num_epoch = 10 \n",
        "batch_size = 64 \n",
        "\n",
        "model = build_model() \n",
        "model_log = model.fit(X_train, Y_train, batch_size=64, epochs=num_epoch, verbose=1, validation_data=(X_test, Y_test))"
      ],
      "metadata": {
        "colab": {
          "base_uri": "https://localhost:8080/"
        },
        "id": "0kCt62TWNSLY",
        "outputId": "5ff9963f-ace7-49f8-81da-e920049ef38d"
      },
      "execution_count": 15,
      "outputs": [
        {
          "output_type": "stream",
          "name": "stdout",
          "text": [
            "Model: \"sequential_1\"\n",
            "_________________________________________________________________\n",
            " Layer (type)                Output Shape              Param #   \n",
            "=================================================================\n",
            " conv2d_2 (Conv2D)           (None, 26, 26, 32)        320       \n",
            "                                                                 \n",
            " max_pooling2d_2 (MaxPooling  (None, 13, 13, 32)       0         \n",
            " 2D)                                                             \n",
            "                                                                 \n",
            " conv2d_3 (Conv2D)           (None, 11, 11, 32)        9248      \n",
            "                                                                 \n",
            " max_pooling2d_3 (MaxPooling  (None, 5, 5, 32)         0         \n",
            " 2D)                                                             \n",
            "                                                                 \n",
            " dropout_2 (Dropout)         (None, 5, 5, 32)          0         \n",
            "                                                                 \n",
            " flatten_1 (Flatten)         (None, 800)               0         \n",
            "                                                                 \n",
            " dense_2 (Dense)             (None, 256)               205056    \n",
            "                                                                 \n",
            " dropout_3 (Dropout)         (None, 256)               0         \n",
            "                                                                 \n",
            " dense_3 (Dense)             (None, 10)                2570      \n",
            "                                                                 \n",
            "=================================================================\n",
            "Total params: 217,194\n",
            "Trainable params: 217,194\n",
            "Non-trainable params: 0\n",
            "_________________________________________________________________\n",
            "Epoch 1/10\n",
            "938/938 [==============================] - 6s 5ms/step - loss: 2.1759 - accuracy: 0.2389 - val_loss: 1.7943 - val_accuracy: 0.7123\n",
            "Epoch 2/10\n",
            "938/938 [==============================] - 5s 6ms/step - loss: 1.4235 - accuracy: 0.5595 - val_loss: 0.7434 - val_accuracy: 0.8391\n",
            "Epoch 3/10\n",
            "938/938 [==============================] - 5s 5ms/step - loss: 0.9216 - accuracy: 0.7035 - val_loss: 0.4964 - val_accuracy: 0.8783\n",
            "Epoch 4/10\n",
            "938/938 [==============================] - 5s 5ms/step - loss: 0.7170 - accuracy: 0.7722 - val_loss: 0.3946 - val_accuracy: 0.9027\n",
            "Epoch 5/10\n",
            "938/938 [==============================] - 5s 5ms/step - loss: 0.6082 - accuracy: 0.8079 - val_loss: 0.3362 - val_accuracy: 0.9153\n",
            "Epoch 6/10\n",
            "938/938 [==============================] - 5s 5ms/step - loss: 0.5380 - accuracy: 0.8323 - val_loss: 0.2989 - val_accuracy: 0.9217\n",
            "Epoch 7/10\n",
            "938/938 [==============================] - 5s 6ms/step - loss: 0.4807 - accuracy: 0.8526 - val_loss: 0.2693 - val_accuracy: 0.9276\n",
            "Epoch 8/10\n",
            "938/938 [==============================] - 5s 5ms/step - loss: 0.4382 - accuracy: 0.8656 - val_loss: 0.2471 - val_accuracy: 0.9321\n",
            "Epoch 9/10\n",
            "938/938 [==============================] - 4s 5ms/step - loss: 0.4063 - accuracy: 0.8762 - val_loss: 0.2302 - val_accuracy: 0.9351\n",
            "Epoch 10/10\n",
            "938/938 [==============================] - 5s 5ms/step - loss: 0.3814 - accuracy: 0.8838 - val_loss: 0.2162 - val_accuracy: 0.9388\n"
          ]
        }
      ]
    },
    {
      "cell_type": "code",
      "source": [
        "score = model.evaluate(X_test, Y_test, verbose=0) \n",
        "print('Adagrad Test Loss:', score[0]) \n",
        "print('Adagrad Test Accuracy:', score[1])"
      ],
      "metadata": {
        "colab": {
          "base_uri": "https://localhost:8080/"
        },
        "id": "S0GgxxQxNVZw",
        "outputId": "db5ef0c0-8071-48b4-9ea5-78dac7f637ba"
      },
      "execution_count": 16,
      "outputs": [
        {
          "output_type": "stream",
          "name": "stdout",
          "text": [
            "Adagrad Test Loss: 0.21618635952472687\n",
            "Adagrad Test Accuracy: 0.9387999773025513\n"
          ]
        }
      ]
    },
    {
      "cell_type": "code",
      "source": [
        "fig = plt.figure() \n",
        "\n",
        "plt.subplot(2, 1, 1) \n",
        "plt.plot(model_log.history['accuracy']) \n",
        "plt.plot(model_log.history['val_accuracy']) \n",
        "plt.title('AdaGrad Model Accruacy') \n",
        "plt.xlabel(\"Epoch\") \n",
        "plt.ylabel(\"Accuracy\") \n",
        "plt.legend(['train', 'test'], loc='lower right')\n",
        "\n",
        "plt.subplot(2, 1, 2) \n",
        "plt.plot(model_log.history['loss']) \n",
        "plt.plot(model_log.history['val_loss']) \n",
        "plt.title('AdaGrad Model Loss') \n",
        "plt.xlabel(\"Epoch\") \n",
        "plt.ylabel(\"Loss\") \n",
        "plt.legend(['train', 'test'], loc='lower right')\n",
        "\n",
        "plt.tight_layout() "
      ],
      "metadata": {
        "colab": {
          "base_uri": "https://localhost:8080/",
          "height": 297
        },
        "id": "QzMPrgd5OHLF",
        "outputId": "3b788acd-eb5f-4d93-ce13-d400d1cdc3a4"
      },
      "execution_count": 17,
      "outputs": [
        {
          "output_type": "display_data",
          "data": {
            "text/plain": [
              "<Figure size 432x288 with 2 Axes>"
            ],
            "image/png": "[encoded data removed]"
          },
          "metadata": {
            "needs_background": "light"
          }
        }
      ]
    }
  ]
}
