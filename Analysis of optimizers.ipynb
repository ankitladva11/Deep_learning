{
  "cells": [
    {
      "cell_type": "code",
      "execution_count": 1,
      "metadata": {
        "id": "0EkiApM2YJYy"
      },
      "outputs": [],
      "source": [
        "import numpy as np \n",
        "import pandas as pd \n",
        "import matplotlib.pyplot as plt "
      ]
    },
    {
      "cell_type": "code",
      "execution_count": 2,
      "metadata": {
        "id": "gCdUhf8TYZLc"
      },
      "outputs": [],
      "source": [
        "X = np.array([0.5, 2.5]) \n",
        "Y = np.array([0.2, 0.9])"
      ]
    },
    {
      "cell_type": "code",
      "execution_count": 3,
      "metadata": {
        "id": "s91OYvodYh8b"
      },
      "outputs": [],
      "source": [
        "def sigmoid(x, w, b): \n",
        "  y_in = np.dot(w, x) + b \n",
        "  y_hat = 1/(1 + np.exp(-y_in)) \n",
        "  return y_hat"
      ]
    },
    {
      "cell_type": "code",
      "execution_count": 4,
      "metadata": {
        "id": "s9cSRnX6Ytg6"
      },
      "outputs": [],
      "source": [
        "def error(y, y_hat): \n",
        "  err = np.array((y-y_hat)**2).mean() \n",
        "  return err "
      ]
    },
    {
      "cell_type": "code",
      "execution_count": 5,
      "metadata": {
        "id": "Bekz9UHwYy-C"
      },
      "outputs": [],
      "source": [
        "def delta_w(x, y, y_hat, c): \n",
        "  dw = c*(y_hat-y)*y_hat*(1-y_hat)*x\n",
        "  return dw "
      ]
    },
    {
      "cell_type": "code",
      "execution_count": 6,
      "metadata": {
        "id": "IMiZd322ZGj2"
      },
      "outputs": [],
      "source": [
        "def delta_b(y, y_hat, c): \n",
        "  db = c*(y_hat-y)*y_hat*(1-y_hat)\n",
        "  return db"
      ]
    },
    {
      "cell_type": "markdown",
      "metadata": {
        "id": "zFt22JzpZOg-"
      },
      "source": [
        "# **BATCH**"
      ]
    },
    {
      "cell_type": "code",
      "execution_count": 7,
      "metadata": {
        "id": "XRWCZn8FZLU0"
      },
      "outputs": [],
      "source": [
        "def batch_gd(x, Y, epochs): \n",
        "  w = -2 \n",
        "  b = -2 \n",
        "  c = 1 \n",
        "  err_list = [] \n",
        "  W = [] \n",
        "  B = [] \n",
        "  for i in range(epochs): \n",
        "    temp_w = 0 \n",
        "    temp_b = 0\n",
        "    for x, y in zip(X, Y):\n",
        "      y_hat = sigmoid(x, w, b) \n",
        "      temp_w += delta_w(x, y, y_hat, c) \n",
        "      temp_b += delta_b(y, y_hat, c) \n",
        "    temp_w = temp_w/len(Y) \n",
        "    temp_b = temp_b/len(Y) \n",
        "    w -= temp_w \n",
        "    b -= temp_b \n",
        "    W.append(w) \n",
        "    B.append(b) \n",
        "    err_list.append(error(Y, sigmoid(X, w, b)))\n",
        "    print(f\"After epoch {i+1}: Weight ==> {w} and Bias ==> {b}\") \n",
        "  return W, B, err_list "
      ]
    },
    {
      "cell_type": "code",
      "execution_count": 8,
      "metadata": {
        "colab": {
          "base_uri": "https://localhost:8080/"
        },
        "id": "-HlMMbtmajW6",
        "outputId": "3d8236a7-e64f-453f-db1f-5f4c91eb0337"
      },
      "outputs": [
        {
          "name": "stdout",
          "output_type": "stream",
          "text": [
            "After epoch 1: Weight ==> -1.99725384039218 and Bias ==> -1.9961444203923928\n",
            "After epoch 2: Weight ==> -1.9944912004709476 and Bias ==> -1.9922734714647627\n",
            "After epoch 3: Weight ==> -1.9917118825485347 and Bias ==> -1.9883870406790147\n",
            "After epoch 4: Weight ==> -1.9889156852695724 and Bias ==> -1.984485014240972\n",
            "After epoch 5: Weight ==> -1.9861024035175066 and Bias ==> -1.9805672770781728\n",
            "After epoch 6: Weight ==> -1.9832718283179627 and Bias ==> -1.9766337128170246\n",
            "After epoch 7: Weight ==> -1.9804237467389414 and Bias ==> -1.9726842037592907\n",
            "After epoch 8: Weight ==> -1.9775579417877174 and Bias ==> -1.9687186308578795\n",
            "After epoch 9: Weight ==> -1.9746741923043087 and Bias ==> -1.9647368736919084\n",
            "After epoch 10: Weight ==> -1.9717722728513796 and Bias ==> -1.9607388104410104\n",
            "After epoch 11: Weight ==> -1.9688519536004305 and Bias ==> -1.9567243178588505\n",
            "After epoch 12: Weight ==> -1.9659130002141245 and Bias ==> -1.9526932712458187\n",
            "After epoch 13: Weight ==> -1.9629551737245892 and Bias ==> -1.948645544420863\n",
            "After epoch 14: Weight ==> -1.9599782304075295 and Bias ==> -1.9445810096924236\n",
            "After epoch 15: Weight ==> -1.9569819216519742 and Bias ==> -1.9404995378284289\n",
            "After epoch 16: Weight ==> -1.9539659938254734 and Bias ==> -1.9364009980253114\n",
            "After epoch 17: Weight ==> -1.950930188134555 and Bias ==> -1.9322852578759977\n",
            "After epoch 18: Weight ==> -1.9478742404802363 and Bias ==> -1.9281521833368271\n",
            "After epoch 19: Weight ==> -1.944797881308379 and Bias ==> -1.9240016386933478\n",
            "After epoch 20: Weight ==> -1.941700835454666 and Bias ==> -1.9198334865249402\n",
            "After epoch 21: Weight ==> -1.938582821983963 and Bias ==> -1.9156475876682095\n",
            "After epoch 22: Weight ==> -1.9354435540238188 and Bias ==> -1.9114438011790924\n",
            "After epoch 23: Weight ==> -1.9322827385918493 and Bias ==> -1.907221984293614\n",
            "After epoch 24: Weight ==> -1.9291000764167257 and Bias ==> -1.9029819923872306\n",
            "After epoch 25: Weight ==> -1.9258952617524863 and Bias ==> -1.89872367893269\n",
            "After epoch 26: Weight ==> -1.922667982185867 and Bias ==> -1.894446895456336\n",
            "After epoch 27: Weight ==> -1.9194179184363325 and Bias ==> -1.8901514914927813\n",
            "After epoch 28: Weight ==> -1.9161447441484751 and Bias ==> -1.8858373145378646\n",
            "After epoch 29: Weight ==> -1.9128481256764265 and Bias ==> -1.8815042099998107\n",
            "After epoch 30: Weight ==> -1.9095277218599116 and Bias ==> -1.8771520211484964\n",
            "After epoch 31: Weight ==> -1.9061831837915517 and Bias ==> -1.8727805890627307\n",
            "After epoch 32: Weight ==> -1.9028141545750037 and Bias ==> -1.8683897525754438\n",
            "After epoch 33: Weight ==> -1.8994202690734971 and Bias ==> -1.8639793482166778\n",
            "After epoch 34: Weight ==> -1.8960011536483088 and Bias ==> -1.8595492101542623\n",
            "After epoch 35: Weight ==> -1.8925564258866883 and Bias ==> -1.855099170132056\n",
            "After epoch 36: Weight ==> -1.8890856943187182 and Bias ==> -1.8506290574056201\n",
            "After epoch 37: Weight ==> -1.885588558122565 and Bias ==> -1.84613869867519\n",
            "After epoch 38: Weight ==> -1.8820646068175462 and Bias ==> -1.8416279180157957\n",
            "After epoch 39: Weight ==> -1.8785134199444016 and Bias ==> -1.8370965368043792\n",
            "After epoch 40: Weight ==> -1.874934566732127 and Bias ==> -1.832544373643739\n",
            "After epoch 41: Weight ==> -1.8713276057506854 and Bias ==> -1.8279712442831297\n",
            "After epoch 42: Weight ==> -1.8676920845488707 and Bias ==> -1.8233769615353286\n",
            "After epoch 43: Weight ==> -1.8640275392765613 and Bias ==> -1.8187613351899692\n",
            "After epoch 44: Weight ==> -1.860333494290543 and Bias ==> -1.814124171922931\n",
            "After epoch 45: Weight ==> -1.8566094617430444 and Bias ==> -1.809465275201559\n",
            "After epoch 46: Weight ==> -1.8528549411520627 and Bias ==> -1.8047844451854715\n",
            "After epoch 47: Weight ==> -1.84906941895251 and Bias ==> -1.8000814786227013\n",
            "After epoch 48: Weight ==> -1.8452523680271433 and Bias ==> -1.7953561687408937\n",
            "After epoch 49: Weight ==> -1.8414032472161777 and Bias ==> -1.7906083051332715\n",
            "After epoch 50: Weight ==> -1.837521500804414 and Bias ==> -1.7858376736390524\n",
            "After epoch 51: Weight ==> -1.833606557984634 and Bias ==> -1.7810440562179863\n",
            "After epoch 52: Weight ==> -1.829657832295936 and Bias ==> -1.7762272308186546\n",
            "After epoch 53: Weight ==> -1.825674721035598 and Bias ==> -1.7713869712401515\n",
            "After epoch 54: Weight ==> -1.8216566046429594 and Bias ==> -1.7665230469867375\n",
            "After epoch 55: Weight ==> -1.8176028460537168 and Bias ==> -1.7616352231150272\n",
            "After epoch 56: Weight ==> -1.8135127900229133 and Bias ==> -1.7567232600732448\n",
            "After epoch 57: Weight ==> -1.8093857624147909 and Bias ==> -1.7517869135320432\n",
            "After epoch 58: Weight ==> -1.805221069457546 and Bias ==> -1.7468259342063486\n",
            "After epoch 59: Weight ==> -1.801017996960893 and Bias ==> -1.7418400676676524\n",
            "After epoch 60: Weight ==> -1.7967758094941961 and Bias ==> -1.7368290541461304\n",
            "After epoch 61: Weight ==> -1.7924937495227644 and Bias ==> -1.7317926283219203\n",
            "After epoch 62: Weight ==> -1.7881710364997456 and Bias ==> -1.7267305191048423\n",
            "After epoch 63: Weight ==> -1.7838068659108548 and Bias ==> -1.721642449401791\n",
            "After epoch 64: Weight ==> -1.7794004082689845 and Bias ==> -1.7165281358709672\n",
            "After epoch 65: Weight ==> -1.7749508080555179 and Bias ==> -1.7113872886620558\n",
            "After epoch 66: Weight ==> -1.7704571826049345 and Bias ==> -1.706219611141385\n",
            "After epoch 67: Weight ==> -1.7659186209290396 and Bias ==> -1.7010247996010286\n",
            "After epoch 68: Weight ==> -1.76133418247687 and Bias ==> -1.6958025429507266\n",
            "After epoch 69: Weight ==> -1.7567028958260267 and Bias ==> -1.6905525223914122\n",
            "After epoch 70: Weight ==> -1.7520237573008541 and Bias ==> -1.6852744110690356\n",
            "After epoch 71: Weight ==> -1.747295729512528 and Bias ==> -1.679967873707267\n",
            "After epoch 72: Weight ==> -1.7425177398157206 and Bias ==> -1.6746325662175414\n",
            "After epoch 73: Weight ==> -1.7376886786760852 and Bias ==> -1.6692681352847865\n",
            "After epoch 74: Weight ==> -1.7328073979423355 and Bias ==> -1.6638742179270267\n",
            "After epoch 75: Weight ==> -1.727872709016184 and Bias ==> -1.6584504410269114\n",
            "After epoch 76: Weight ==> -1.722883380912846 and Bias ==> -1.652996420833038\n",
            "After epoch 77: Weight ==> -1.7178381382042018 and Bias ==> -1.6475117624287654\n",
            "After epoch 78: Weight ==> -1.7127356588360392 and Bias ==> -1.641996059166\n",
            "After epoch 79: Weight ==> -1.7075745718100637 and Bias ==> -1.6364488920612237\n",
            "After epoch 80: Weight ==> -1.7023534547205486 and Bias ==> -1.6308698291507775\n",
            "After epoch 81: Weight ==> -1.6970708311346088 and Bias ==> -1.6252584248021504\n",
            "After epoch 82: Weight ==> -1.6917251678041023 and Bias ==> -1.6196142189777212\n",
            "After epoch 83: Weight ==> -1.6863148716960754 and Bias ==> -1.6139367364470671\n",
            "After epoch 84: Weight ==> -1.6808382868274756 and Bias ==> -1.6082254859435952\n",
            "After epoch 85: Weight ==> -1.6752936908885343 and Bias ==> -1.6024799592608383\n",
            "After epoch 86: Weight ==> -1.6696792916377574 and Bias ==> -1.5966996302833156\n",
            "After epoch 87: Weight ==> -1.6639932230498409 and Bias ==> -1.5908839539463535\n",
            "After epoch 88: Weight ==> -1.6582335411960294 and Bias ==> -1.5850323651187117\n",
            "After epoch 89: Weight ==> -1.6523982198344398 and Bias ==> -1.5791442774012416\n",
            "After epoch 90: Weight ==> -1.6464851456856409 and Bias ==> -1.5732190818341145\n",
            "After epoch 91: Weight ==> -1.6404921133663095 and Bias ==> -1.5672561455043903\n",
            "After epoch 92: Weight ==> -1.6344168199510127 and Bias ==> -1.5612548100448387\n",
            "After epoch 93: Weight ==> -1.6282568591290774 and Bias ==> -1.555214390013964\n",
            "After epoch 94: Weight ==> -1.6220097149200492 and Bias ==> -1.5491341711461082\n",
            "After epoch 95: Weight ==> -1.615672754907366 and Bias ==> -1.5430134084592912\n",
            "After epoch 96: Weight ==> -1.609243222945514 and Bias ==> -1.536851324207097\n",
            "After epoch 97: Weight ==> -1.6027182312910473 and Bias ==> -1.530647105659366\n",
            "After epoch 98: Weight ==> -1.5960947521023234 and Bias ==> -1.5243999026947406\n",
            "After epoch 99: Weight ==> -1.5893696082465953 and Bias ==> -1.5181088251861365\n",
            "After epoch 100: Weight ==> -1.582539463346055 and Bias ==> -1.5117729401580118\n"
          ]
        }
      ],
      "source": [
        "wt_bgd, b_bgd, err_bgd = batch_gd(X, Y, 100)"
      ]
    },
    {
      "cell_type": "code",
      "execution_count": 9,
      "metadata": {
        "id": "VINmyDnOarLW"
      },
      "outputs": [],
      "source": [
        "epoch = [i for i in range(1, 101)]"
      ]
    },
    {
      "cell_type": "code",
      "execution_count": 10,
      "metadata": {
        "colab": {
          "base_uri": "https://localhost:8080/",
          "height": 0
        },
        "id": "y7ttSPqfa0JL",
        "outputId": "6fbc1fe6-d5c2-48e1-d14d-e528c7d7b516"
      },
      "outputs": [
        {
          "data": {
            "image/png": "[encoded data removed]",
            "text/plain": [
              "<Figure size 432x288 with 1 Axes>"
            ]
          },
          "metadata": {
            "needs_background": "light"
          },
          "output_type": "display_data"
        }
      ],
      "source": [
        "plt.plot(epoch, err_bgd) \n",
        "plt.xlabel(\"Epoch\") \n",
        "plt.ylabel(\"Error\") \n",
        "plt.show()"
      ]
    },
    {
      "cell_type": "code",
      "execution_count": 11,
      "metadata": {
        "colab": {
          "base_uri": "https://localhost:8080/",
          "height": 0
        },
        "id": "S8m85s7ia7UB",
        "outputId": "357f4494-2752-4a88-ce1b-719cdfab6a5a"
      },
      "outputs": [
        {
          "data": {
            "image/png": "[encoded data removed]",
            "text/plain": [
              "<Figure size 432x288 with 1 Axes>"
            ]
          },
          "metadata": {
            "needs_background": "light"
          },
          "output_type": "display_data"
        }
      ],
      "source": [
        "plt.plot(wt_bgd, err_bgd) \n",
        "plt.xlabel(\"Weight\") \n",
        "plt.ylabel(\"Error\") \n",
        "plt.show()"
      ]
    },
    {
      "cell_type": "markdown",
      "metadata": {
        "id": "CblahkGybdhn"
      },
      "source": [
        "# **MINI-BATCH**"
      ]
    },
    {
      "cell_type": "code",
      "execution_count": 12,
      "metadata": {
        "id": "qaJWJ9avbhSM"
      },
      "outputs": [],
      "source": [
        "def mini_batch_gd(X, Y, epochs): \n",
        "  batch_size = 1 \n",
        "  w = -2 \n",
        "  b = -2 \n",
        "  c = 1 \n",
        "  err_list = [] \n",
        "  W = [] \n",
        "  B = [] \n",
        "  for i in range(epochs): \n",
        "    temp_dw = 0 \n",
        "    temp_db = 0 \n",
        "    counter = 0\n",
        "    for x, y in zip(X, Y): \n",
        "      y_hat = sigmoid(x, w, b) \n",
        "      temp_dw += delta_w(x, y, y_hat, c) \n",
        "      temp_db += delta_b(y, y_hat, c) \n",
        "      counter += 1 \n",
        "      if(counter % batch_size == 0):  \n",
        "        w -= temp_dw \n",
        "        b -= temp_db \n",
        "        temp_dw = 0 \n",
        "        temp_db = 0  \n",
        "    W.append(w) \n",
        "    B.append(b) \n",
        "    err_list.append(error(Y, sigmoid(X, w, b)))\n",
        "    print(f\"After epoch {i+1}: Weight ==> {w} and Bias ==> {b}\") \n",
        "  \n",
        "  return W, B, err_list"
      ]
    },
    {
      "cell_type": "code",
      "execution_count": 13,
      "metadata": {
        "colab": {
          "base_uri": "https://localhost:8080/"
        },
        "id": "wNeDUDAjdrBG",
        "outputId": "119c5a16-2c28-4bb3-9558-65bf21d09f20"
      },
      "outputs": [
        {
          "name": "stdout",
          "output_type": "stream",
          "text": [
            "After epoch 1: Weight ==> -1.994475795729677 and Bias ==> -1.9922760867629123\n",
            "After epoch 2: Weight ==> -1.988884289816156 and Bias ==> -1.984490060103158\n",
            "After epoch 3: Weight ==> -1.9832238302034213 and Bias ==> -1.9766409916688152\n",
            "After epoch 4: Weight ==> -1.9774927017445665 and Bias ==> -1.9687279315547233\n",
            "After epoch 5: Weight ==> -1.9716891228731768 and Bias ==> -1.9607499074958448\n",
            "After epoch 6: Weight ==> -1.9658112420494782 and Bias ==> -1.9527059240114042\n",
            "After epoch 7: Weight ==> -1.959857133962649 and Bias ==> -1.9445949614955387\n",
            "After epoch 8: Weight ==> -1.9538247954688788 and Bias ==> -1.9364159752497354\n",
            "After epoch 9: Weight ==> -1.947712141242738 and Bias ==> -1.928167894451829\n",
            "After epoch 10: Weight ==> -1.9415169991171701 and Bias ==> -1.9198496210557554\n",
            "After epoch 11: Weight ==> -1.9352371050849135 and Bias ==> -1.9114600286156187\n",
            "After epoch 12: Weight ==> -1.9288700979313518 and Bias ==> -1.9029979610269032\n",
            "After epoch 13: Weight ==> -1.922413513465651 and Bias ==> -1.8944622311768495\n",
            "After epoch 14: Weight ==> -1.9158647783135294 and Bias ==> -1.8858516194950896\n",
            "After epoch 15: Weight ==> -1.9092212032310467 and Bias ==> -1.8771648723946008\n",
            "After epoch 16: Weight ==> -1.9024799758943662 and Bias ==> -1.868400700591852\n",
            "After epoch 17: Weight ==> -1.895638153115433 and Bias ==> -1.8595577772936853\n",
            "After epoch 18: Weight ==> -1.8886926524278655 and Bias ==> -1.8506347362369566\n",
            "After epoch 19: Weight ==> -1.881640242980978 and Bias ==> -1.841630169565226\n",
            "After epoch 20: Weight ==> -1.874477535672613 and Bias ==> -1.8325426255248236\n",
            "After epoch 21: Weight ==> -1.867200972443273 and Bias ==> -1.823370605960366\n",
            "After epoch 22: Weight ==> -1.8598068146446929 and Bias ==> -1.8141125635872237\n",
            "After epoch 23: Weight ==> -1.8522911303853882 and Bias ==> -1.8047668990154906\n",
            "After epoch 24: Weight ==> -1.8446497807435658 and Bias ==> -1.7953319574966211\n",
            "After epoch 25: Weight ==> -1.8368784047239095 and Bias ==> -1.7858060253599992\n",
            "After epoch 26: Weight ==> -1.828972402818831 and Bias ==> -1.7761873261022114\n",
            "After epoch 27: Weight ==> -1.8209269190164796 and Bias ==> -1.7664740160866002\n",
            "After epoch 28: Weight ==> -1.8127368210767225 and Bias ==> -1.7566641798046554\n",
            "After epoch 29: Weight ==> -1.8043966788719594 and Bias ==> -1.746755824643817\n",
            "After epoch 30: Weight ==> -1.7959007405614342 and Bias ==> -1.7367468750981296\n",
            "After epoch 31: Weight ==> -1.7872429063349728 and Bias ==> -1.7266351663487052\n",
            "After epoch 32: Weight ==> -1.7784166994239552 and Bias ==> -1.716418437129847\n",
            "After epoch 33: Weight ==> -1.7694152340328198 and Bias ==> -1.7060943217836724\n",
            "After epoch 34: Weight ==> -1.7602311797922812 and Bias ==> -1.6956603413907485\n",
            "After epoch 35: Weight ==> -1.7508567222741989 and Bias ==> -1.6851138938461863\n",
            "After epoch 36: Weight ==> -1.7412835190358773 and Bias ==> -1.6744522427292394\n",
            "After epoch 37: Weight ==> -1.731502650576235 and Bias ==> -1.6636725047890517\n",
            "After epoch 38: Weight ==> -1.7215045654850236 and Bias ==> -1.6527716358389213\n",
            "After epoch 39: Weight ==> -1.711279018945678 and Bias ==> -1.641746414815259\n",
            "After epoch 40: Weight ==> -1.700815003608208 and Bias ==> -1.630593425713963\n",
            "After epoch 41: Weight ==> -1.690100671675515 and Bias ==> -1.6193090370645964\n",
            "After epoch 42: Weight ==> -1.6791232468379673 and Bias ==> -1.6078893785394182\n",
            "After epoch 43: Weight ==> -1.6678689244386709 and Bias ==> -1.596330314217383\n",
            "After epoch 44: Weight ==> -1.6563227579449484 and Bias ==> -1.584627411929327\n",
            "After epoch 45: Weight ==> -1.6444685294266084 and Bias ==> -1.5727759079954213\n",
            "After epoch 46: Weight ==> -1.6322886012812363 and Bias ==> -1.5607706665241088\n",
            "After epoch 47: Weight ==> -1.6197637458785863 and Bias ==> -1.5486061322660203\n",
            "After epoch 48: Weight ==> -1.6068729490910658 and Bias ==> -1.5362762757975135\n",
            "After epoch 49: Weight ==> -1.5935931827972314 and Bias ==> -1.523774529534344\n",
            "After epoch 50: Weight ==> -1.5798991403399782 and Bias ==> -1.5110937127305015\n",
            "After epoch 51: Weight ==> -1.5657629275241947 and Bias ==> -1.4982259431790308\n",
            "After epoch 52: Weight ==> -1.551153699961004 and Bias ==> -1.485162532772063\n",
            "After epoch 53: Weight ==> -1.536037235287301 and Bias ==> -1.4718938633574803\n",
            "After epoch 54: Weight ==> -1.5203754258466422 and Bias ==> -1.4584092383967053\n",
            "After epoch 55: Weight ==> -1.5041256735862425 and Bias ==> -1.4446967047090797\n",
            "After epoch 56: Weight ==> -1.4872401638933923 and Bias ==> -1.4307428369816573\n",
            "After epoch 57: Weight ==> -1.4696649884263735 and Bias ==> -1.416532475586213\n",
            "After epoch 58: Weight ==> -1.4513390780707482 and Bias ==> -1.4020484053747946\n",
            "After epoch 59: Weight ==> -1.4321928950831952 and Bias ==> -1.3872709592289074\n",
            "After epoch 60: Weight ==> -1.4121468169805202 and Bias ==> -1.372177524789279\n",
            "After epoch 61: Weight ==> -1.3911091218884488 and Bias ==> -1.356741925363234\n",
            "After epoch 62: Weight ==> -1.3689734530389093 and Bias ==> -1.3409336355504675\n",
            "After epoch 63: Weight ==> -1.3456155945763992 and Bias ==> -1.3247167772065134\n",
            "After epoch 64: Weight ==> -1.3208893251335507 and Bias ==> -1.3080488197475524\n",
            "After epoch 65: Weight ==> -1.2946210192754 and Bias ==> -1.2908788769748618\n",
            "After epoch 66: Weight ==> -1.2666025230778895 and Bias ==> -1.2731454449093842\n",
            "After epoch 67: Weight ==> -1.2365816112772634 and Bias ==> -1.25477335229658\n",
            "After epoch 68: Weight ==> -1.2042489935339782 and Bias ==> -1.2356695818923478\n",
            "After epoch 69: Weight ==> -1.1692202974124286 and Bias ==> -1.2157174396004926\n",
            "After epoch 70: Weight ==> -1.1310105767817926 and Bias ==> -1.1947682528229722\n",
            "After epoch 71: Weight ==> -1.0889974256323598 and Bias ==> -1.172629283682828\n",
            "After epoch 72: Weight ==> -1.0423662533226696 and Bias ==> -1.1490456887220792\n",
            "After epoch 73: Weight ==> -0.9900268119775678 and Bias ==> -1.1236728432419276\n",
            "After epoch 74: Weight ==> -0.9304819389729257 and Bias ==> -1.0960325937342124\n",
            "After epoch 75: Weight ==> -0.8616143280245634 and Bias ==> -1.065441883746672\n",
            "After epoch 76: Weight ==> -0.7803286757605945 and Bias ==> -1.0308926786485542\n",
            "After epoch 77: Weight ==> -0.681935215666985 and Bias ==> -0.9908454485721842\n",
            "After epoch 78: Weight ==> -0.5590881186977721 and Bias ==> -0.9428777617364815\n",
            "After epoch 79: Weight ==> -0.4001383874438573 and Bias ==> -0.8831658393990541\n",
            "After epoch 80: Weight ==> -0.18806849374899182 and Bias ==> -0.8063329100951354\n",
            "After epoch 81: Weight ==> 0.08967325578476298 and Bias ==> -0.7098614646856596\n",
            "After epoch 82: Weight ==> 0.38413741780368793 and Bias ==> -0.6171250095343218\n",
            "After epoch 83: Weight ==> 0.5707626431021661 and Bias ==> -0.5798238724764553\n",
            "After epoch 84: Weight ==> 0.6678312814762877 and Bias ==> -0.5854101360583319\n",
            "After epoch 85: Weight ==> 0.728173265232293 and Bias ==> -0.6080213783514192\n",
            "After epoch 86: Weight ==> 0.7713509734534562 and Bias ==> -0.6379086644083604\n",
            "After epoch 87: Weight ==> 0.805253594090442 and Bias ==> -0.671055543951882\n",
            "After epoch 88: Weight ==> 0.8336361530157337 and Bias ==> -0.705530602724355\n",
            "After epoch 89: Weight ==> 0.8584941910493178 and Bias ==> -0.7403126950567643\n",
            "After epoch 90: Weight ==> 0.8809677987022062 and Bias ==> -0.7748331454714736\n",
            "After epoch 91: Weight ==> 0.9017417704337044 and Bias ==> -0.8087684370279057\n",
            "After epoch 92: Weight ==> 0.9212430536508364 and Bias ==> -0.841935684379454\n",
            "After epoch 93: Weight ==> 0.9397460649892979 and Bias ==> -0.874235757881871\n",
            "After epoch 94: Weight ==> 0.9574320991906695 and Bias ==> -0.9056206148094684\n",
            "After epoch 95: Weight ==> 0.9744242295330279 and Bias ==> -0.9360737954844282\n",
            "After epoch 96: Weight ==> 0.9908084312984984 and Bias ==> -0.9655984503726273\n",
            "After epoch 97: Weight ==> 1.0066466564066165 and Bias ==> -0.994209839996309\n",
            "After epoch 98: Weight ==> 1.0219850674892708 and Bias ==> -1.0219305670836465\n",
            "After epoch 99: Weight ==> 1.036859295905256 and Bias ==> -1.0487875138576923\n",
            "After epoch 100: Weight ==> 1.0512978383730156 and Bias ==> -1.074809861413096\n"
          ]
        }
      ],
      "source": [
        "wt_mb, bias_mb, err_mb = mini_batch_gd(X, Y, 100)"
      ]
    },
    {
      "cell_type": "code",
      "execution_count": 14,
      "metadata": {
        "colab": {
          "base_uri": "https://localhost:8080/",
          "height": 279
        },
        "id": "T1WUATU8dxAi",
        "outputId": "2ead0913-d875-4bbd-ecc4-5c0612d2f5d1"
      },
      "outputs": [
        {
          "data": {
            "image/png": "[encoded data removed]",
            "text/plain": [
              "<Figure size 432x288 with 1 Axes>"
            ]
          },
          "metadata": {
            "needs_background": "light"
          },
          "output_type": "display_data"
        }
      ],
      "source": [
        "plt.plot(epoch, err_mb) \n",
        "plt.xlabel(\"Epochs\") \n",
        "plt.ylabel(\"Error\") \n",
        "plt.show()"
      ]
    },
    {
      "cell_type": "code",
      "execution_count": 15,
      "metadata": {
        "colab": {
          "base_uri": "https://localhost:8080/",
          "height": 279
        },
        "id": "1lKBFfBAd4_z",
        "outputId": "1f24bc12-6fa7-4e5e-c4aa-0e4b6b307aaa"
      },
      "outputs": [
        {
          "data": {
            "image/png": "[encoded data removed]",
            "text/plain": [
              "<Figure size 432x288 with 1 Axes>"
            ]
          },
          "metadata": {
            "needs_background": "light"
          },
          "output_type": "display_data"
        }
      ],
      "source": [
        "plt.plot(wt_mb, err_mb) \n",
        "plt.xlabel(\"Weights\") \n",
        "plt.ylabel(\"Error\") \n",
        "plt.show()"
      ]
    },
    {
      "cell_type": "markdown",
      "metadata": {
        "id": "7FVui2t9fR9H"
      },
      "source": [
        "# **MOMENTUM**"
      ]
    },
    {
      "cell_type": "code",
      "execution_count": 16,
      "metadata": {
        "id": "ekF3T9SXfUM_"
      },
      "outputs": [],
      "source": [
        "def momentum_gd(X, Y, epochs): \n",
        "  w = -2\n",
        "  b = -2\n",
        "  eta = 1\n",
        "  c = 1\n",
        "  gamma = 0.9\n",
        "  v_w = 0 \n",
        "  v_b = 0 \n",
        "  err_list = [] \n",
        "  W = [] \n",
        "  B = [] \n",
        "  for i in range(epochs): \n",
        "    temp_dw = 0\n",
        "    temp_db = 0 \n",
        "    for x, y in zip(X, Y):  \n",
        "      y_hat = sigmoid(x, w, b)\n",
        "      temp_dw += delta_w(x, y, y_hat, c) \n",
        "      temp_db += delta_b(y, y_hat, c) \n",
        "    v_w = gamma*v_w + eta*temp_dw \n",
        "    v_b = gamma*v_b + eta*temp_db \n",
        "    w -= v_w \n",
        "    b -= v_b \n",
        "    W.append(w) \n",
        "    B.append(b) \n",
        "    y_hat = sigmoid(X, w, b)\n",
        "    err_list.append(error(Y, y_hat)) \n",
        "    print(f\"After epoch {i+1}: Weight is {w} and Bias is {b}\") \n",
        "  return W, B, err_list"
      ]
    },
    {
      "cell_type": "code",
      "execution_count": 17,
      "metadata": {
        "colab": {
          "base_uri": "https://localhost:8080/"
        },
        "id": "ULSdCKXThq8f",
        "outputId": "e00d402e-e09b-48df-92cc-4a0241450ae2"
      },
      "outputs": [
        {
          "name": "stdout",
          "output_type": "stream",
          "text": [
            "After epoch 1: Weight is -1.99450768078436 and Bias is -1.9922888407847856\n",
            "After epoch 2: Weight is -1.9840061250335266 and Bias is -1.977576082055321\n",
            "After epoch 3: Weight is -1.9688673360707378 and Bias is -1.9564434677326807\n",
            "After epoch 4: Weight is -1.9493633941856943 and Bias is -1.9293606641030028\n",
            "After epoch 5: Weight is -1.9256734075697135 and Bias is -1.8966979801040313\n",
            "After epoch 6: Weight is -1.8978865395684548 and Bias is -1.858736566437543\n",
            "After epoch 7: Weight is -1.8660009795398573 and Bias is -1.8156764531171905\n",
            "After epoch 8: Weight is -1.8299182601553428 and Bias is -1.7676426602264097\n",
            "After epoch 9: Weight is -1.7894317045176555 and Bias is -1.7146894808539017\n",
            "After epoch 10: Weight is -1.7442068520770284 and Bias is -1.6568028511091835\n",
            "After epoch 11: Weight is -1.6937501830462272 and Bias is -1.5939004203451528\n",
            "After epoch 12: Weight is -1.637359805935997 and Bias is -1.5258283744380419\n",
            "After epoch 13: Weight is -1.5740469247910656 and Bias is -1.4523529449551191\n",
            "After epoch 14: Weight is -1.502407596229703 and Bias is -1.373142182445943\n",
            "After epoch 15: Weight is -1.4204054215370807 and Bias is -1.2877283953908283\n",
            "After epoch 16: Weight is -1.3249851280329374 and Bias is -1.1954297025473897\n",
            "After epoch 17: Weight is -1.2113426510800618 and Bias is -1.0951798683443923\n",
            "After epoch 18: Weight is -1.071439580672817 and Bias is -0.9851385955123005\n",
            "After epoch 19: Weight is -0.8906944883305166 and Bias is -0.8617354548421136\n",
            "After epoch 20: Weight is -0.6398609080570864 and Bias is -0.717147349519027\n",
            "After epoch 21: Weight is -0.2546024908950007 and Bias is -0.53275430972185\n",
            "After epoch 22: Weight is 0.3760467920632184 and Bias is -0.2785233618667935\n",
            "After epoch 23: Weight is 1.0439557047312 and Bias is -0.06495033329494543\n",
            "After epoch 24: Weight is 1.591541773014265 and Bias is 0.0275513015953458\n",
            "After epoch 25: Weight is 2.0283018645989315 and Bias is 0.004434619356956229\n",
            "After epoch 26: Weight is 2.3678278122550034 and Bias is -0.12117101321861044\n",
            "After epoch 27: Weight is 2.6208350669744105 and Bias is -0.33817908844372063\n",
            "After epoch 28: Weight is 2.7957278410590667 and Bias is -0.638332428128527\n",
            "After epoch 29: Weight is 2.900452787838178 and Bias is -1.0131440707926926\n",
            "After epoch 30: Weight is 2.945640476448049 and Bias is -1.4478407878685182\n",
            "After epoch 31: Weight is 2.9473826173113977 and Bias is -1.9158778989473424\n",
            "After epoch 32: Weight is 2.9251625315185836 and Bias is -2.3830603415456926\n",
            "After epoch 33: Weight is 2.894867540929329 and Bias is -2.8214731498568004\n",
            "After epoch 34: Weight is 2.864845909037988 and Bias is -3.2174008914501857\n",
            "After epoch 35: Weight is 2.83751794561998 and Bias is -3.568316377402982\n",
            "After epoch 36: Weight is 2.812433662773912 and Bias is -3.8771846409671094\n",
            "After epoch 37: Weight is 2.7884461795768467 and Bias is -4.1487137534545715\n",
            "After epoch 38: Weight is 2.764989196905156 and Bias is -4.387529372326379\n",
            "After epoch 39: Weight is 2.7428745432388264 and Bias is -4.5973674596467\n",
            "After epoch 40: Weight is 2.7247683723149616 and Bias is -4.780747072076992\n",
            "After epoch 41: Weight is 2.715150218072187 and Bias is -4.9389822852669925\n",
            "After epoch 42: Weight is 2.719348391558471 and Bias is -5.072607191785235\n",
            "After epoch 43: Weight is 2.7415741188938836 and Bias is -5.182212836983603\n",
            "After epoch 44: Weight is 2.7828395517191202 and Bias is -5.2693322890733585\n",
            "After epoch 45: Weight is 2.8402260770807652 and Bias is -5.3367847773599175\n",
            "After epoch 46: Weight is 2.908064594627415 and Bias is -5.388252561117523\n",
            "After epoch 47: Weight is 2.9800452571182134 and Bias is -5.427481179028576\n",
            "After epoch 48: Weight is 3.0508706743669087 and Bias is -5.457655368589124\n",
            "After epoch 49: Weight is 3.1168976250690994 and Bias is -5.481171848068905\n",
            "After epoch 50: Weight is 3.1760312669691375 and Bias is -5.499703993123715\n",
            "After epoch 51: Weight is 3.2273265947331766 and Bias is -5.514377913573809\n",
            "After epoch 52: Weight is 3.2705834032366536 and Bias is -5.525946938806853\n",
            "After epoch 53: Weight is 3.306037129688553 and Bias is -5.534924822226117\n",
            "After epoch 54: Weight is 3.3341522914891573 and Bias is -5.541675899918792\n",
            "After epoch 55: Weight is 3.3554947699895648 and Bias is -5.546472331769068\n",
            "After epoch 56: Weight is 3.370657232289908 and Bias is -5.549529120270681\n",
            "After epoch 57: Weight is 3.38021812253414 and Bias is -5.551024999887588\n",
            "After epoch 58: Weight is 3.384721142850667 and Bias is -5.5511145989766515\n",
            "After epoch 59: Weight is 3.3846670095351086 and Bias is -5.549935269444468\n",
            "After epoch 60: Weight is 3.3805124996750417 and Bias is -5.547610649221163\n",
            "After epoch 61: Weight is 3.372673831050741 and Bias is -5.544252187456788\n",
            "After epoch 62: Weight is 3.3615326540324655 and Bias is -5.539959352639401\n",
            "After epoch 63: Weight is 3.347443669093574 and Bias is -5.534818939926078\n",
            "After epoch 64: Weight is 3.330743300599581 and Bias is -5.528903720542241\n",
            "After epoch 65: Weight is 3.3117590630703297 and Bias is -5.522270589362702\n",
            "After epoch 66: Weight is 3.290819306266494 and Bias is -5.514958343610032\n",
            "After epoch 67: Weight is 3.268262945893698 and Bias is -5.506985255428453\n",
            "After epoch 68: Weight is 3.2444485889439956 and Bias is -5.498346679307821\n",
            "After epoch 69: Weight is 3.2197621609806566 and Bias is -5.489013056446963\n",
            "After epoch 70: Weight is 3.19462177479654 and Bias is -5.47892882742384\n",
            "After epoch 71: Weight is 3.1694782311643444 and Bias is -5.4680129082960685\n",
            "After epoch 72: Weight is 3.1448093653224354 and Bias is -5.456161462855579\n",
            "After epoch 73: Weight is 3.121106663626337 and Bias is -5.443253628742469\n",
            "After epoch 74: Weight is 3.0988534001407966 and Bias is -5.429160536196298\n",
            "After epoch 75: Weight is 3.078495098600282 and Bias is -5.413757347559793\n",
            "After epoch 76: Weight is 3.060405250430836 and Bias is -5.396937204993974\n",
            "After epoch 77: Weight is 3.0448513635348746 and Bias is -5.378625120342114\n",
            "After epoch 78: Weight is 3.031967719601771 and Bias is -5.3587893155107125\n",
            "After epoch 79: Weight is 3.021740865344557 and Bias is -5.337447648241705\n",
            "After epoch 80: Weight is 3.0140115845009627 and Bias is -5.314667645886597\n",
            "After epoch 81: Weight is 3.0084934750177963 and Bias is -5.2905600895369105\n",
            "After epoch 82: Weight is 3.0048045472208815 and Bias is -5.265267545312523\n",
            "After epoch 83: Weight is 3.002505773648485 and Bias is -5.238950210893752\n",
            "After epoch 84: Weight is 3.0011399616091006 and Bias is -5.211771656983696\n",
            "After epoch 85: Weight is 3.0002655230809783 and Bias is -5.183886561571124\n",
            "After epoch 86: Weight is 2.9994819061135214 and Bias is -5.155431668880471\n",
            "After epoch 87: Weight is 2.9984457294594615 and Bias is -5.126520310357935\n",
            "After epoch 88: Weight is 2.996878402168333 and Bias is -5.097240148075359\n",
            "After epoch 89: Weight is 2.994566985585611 and Bias is -5.067653428729932\n",
            "After epoch 90: Weight is 2.9913603489137297 and Bias is -5.037798933790532\n",
            "After epoch 91: Weight is 2.9871625062330485 and Bias is -5.007694887286968\n",
            "After epoch 92: Weight is 2.9819246351975948 and Bias is -4.977342244251972\n",
            "After epoch 93: Weight is 2.9756368376484796 and Bias is -4.946727961678862\n",
            "After epoch 94: Weight is 2.9683203088668724 and Bias is -4.915828011440799\n",
            "After epoch 95: Weight is 2.9600202756160847 and Bias is -4.884610015629841\n",
            "After epoch 96: Weight is 2.9507998479339226 and Bias is -4.853035468214828\n",
            "After epoch 97: Weight is 2.9407347927460648 and Bias is -4.8210615586141925\n",
            "After epoch 98: Weight is 2.929909160156939 and Bias is -4.788642640594543\n",
            "After epoch 99: Weight is 2.918411657864793 and Bias is -4.755731401244094\n",
            "After epoch 100: Weight is 2.9063326609228484 and Bias is -4.722279785616352\n"
          ]
        }
      ],
      "source": [
        "wt_mom, bias_mom, err_mom = momentum_gd(X, Y, 100)"
      ]
    },
    {
      "cell_type": "code",
      "execution_count": 18,
      "metadata": {
        "id": "IVbHsOI2MLP4"
      },
      "outputs": [],
      "source": [
        "epoch = [i for i in range(1, 101)]"
      ]
    },
    {
      "cell_type": "code",
      "execution_count": 19,
      "metadata": {
        "colab": {
          "base_uri": "https://localhost:8080/",
          "height": 0
        },
        "id": "v2uSBto5hvqL",
        "outputId": "3a209abb-7136-4ec2-8e3e-e434482a9854"
      },
      "outputs": [
        {
          "data": {
            "image/png": "[encoded data removed]",
            "text/plain": [
              "<Figure size 432x288 with 1 Axes>"
            ]
          },
          "metadata": {
            "needs_background": "light"
          },
          "output_type": "display_data"
        }
      ],
      "source": [
        "plt.plot(epoch, err_mom) \n",
        "plt.xlabel(\"Epoch\") \n",
        "plt.ylabel(\"Error\") \n",
        "plt.show()"
      ]
    },
    {
      "cell_type": "code",
      "execution_count": 20,
      "metadata": {
        "colab": {
          "base_uri": "https://localhost:8080/",
          "height": 0
        },
        "id": "9WuJRO4Fh3Zm",
        "outputId": "53da7f0d-fe78-4237-c461-c50f6f0cb636"
      },
      "outputs": [
        {
          "data": {
            "image/png": "[encoded data removed]",
            "text/plain": [
              "<Figure size 432x288 with 1 Axes>"
            ]
          },
          "metadata": {
            "needs_background": "light"
          },
          "output_type": "display_data"
        }
      ],
      "source": [
        "plt.plot(wt_mom, err_mom) \n",
        "plt.xlabel(\"Weight\") \n",
        "plt.ylabel(\"Error\") \n",
        "plt.show()"
      ]
    },
    {
      "cell_type": "markdown",
      "metadata": {
        "id": "ibY3YQBojMN-"
      },
      "source": [
        "# **ADAGRAD**"
      ]
    },
    {
      "cell_type": "code",
      "execution_count": 21,
      "metadata": {
        "id": "E6Fpq6VajOsq"
      },
      "outputs": [],
      "source": [
        "def adagrad_gd(X, Y, epochs): \n",
        "  w = -2 \n",
        "  b = -2 \n",
        "  c = 1 \n",
        "  eta = 1 \n",
        "  eps = 2 \n",
        "  err_list = [] \n",
        "  W = [] \n",
        "  B = [] \n",
        "  v_w = 0 \n",
        "  v_b = 0 \n",
        "  for i in range(epochs): \n",
        "    temp_dw = 0 \n",
        "    temp_db = 0 \n",
        "    for x, y in zip(X, Y): \n",
        "      y_hat = sigmoid(x, w, b)\n",
        "      temp_dw += delta_w(x, y, y_hat, c) \n",
        "      temp_db += delta_b(y, y_hat, c) \n",
        "\n",
        "    v_w = v_w + temp_dw**2 \n",
        "    v_b = v_b + temp_db**2 \n",
        "\n",
        "    w = w - (eta*temp_dw)/(np.sqrt(v_w + eps)) \n",
        "    b = b - (eta*temp_db)/(np.sqrt(v_w + eps)) \n",
        "\n",
        "    W.append(w) \n",
        "    B.append(b) \n",
        "    err_list.append(error(Y, sigmoid(X, w, b))) \n",
        "    print(f\"After epoch {i+1}: Weight is {w} and Bias is {w}\") \n",
        "  return W, B, err_list "
      ]
    },
    {
      "cell_type": "code",
      "execution_count": 22,
      "metadata": {
        "colab": {
          "base_uri": "https://localhost:8080/"
        },
        "id": "v-H0ZzoqliD3",
        "outputId": "a98a2f74-04f9-4a1c-b3a9-bcdcf8e22bf0"
      },
      "outputs": [
        {
          "name": "stdout",
          "output_type": "stream",
          "text": [
            "After epoch 1: Weight is -1.9961163731260243 and Bias is -1.9961163731260243\n",
            "After epoch 2: Weight is -1.9921997690241617 and Bias is -1.9921997690241617\n",
            "After epoch 3: Weight is -1.988249627035326 and Bias is -1.988249627035326\n",
            "After epoch 4: Weight is -1.9842653717236984 and Bias is -1.9842653717236984\n",
            "After epoch 5: Weight is -1.9802464123397214 and Bias is -1.9802464123397214\n",
            "After epoch 6: Weight is -1.976192142258107 and Bias is -1.976192142258107\n",
            "After epoch 7: Weight is -1.9721019383894467 and Bias is -1.9721019383894467\n",
            "After epoch 8: Weight is -1.9679751605639109 and Bias is -1.9679751605639109\n",
            "After epoch 9: Weight is -1.9638111508854283 and Bias is -1.9638111508854283\n",
            "After epoch 10: Weight is -1.9596092330546249 and Bias is -1.9596092330546249\n",
            "After epoch 11: Weight is -1.9553687116586813 and Bias is -1.9553687116586813\n",
            "After epoch 12: Weight is -1.9510888714261458 and Bias is -1.9510888714261458\n",
            "After epoch 13: Weight is -1.9467689764445975 and Bias is -1.9467689764445975\n",
            "After epoch 14: Weight is -1.9424082693389075 and Bias is -1.9424082693389075\n",
            "After epoch 15: Weight is -1.9380059704076877 and Bias is -1.9380059704076877\n",
            "After epoch 16: Weight is -1.9335612767153374 and Bias is -1.9335612767153374\n",
            "After epoch 17: Weight is -1.9290733611369164 and Bias is -1.9290733611369164\n",
            "After epoch 18: Weight is -1.9245413713528652 and Bias is -1.9245413713528652\n",
            "After epoch 19: Weight is -1.9199644287903712 and Bias is -1.9199644287903712\n",
            "After epoch 20: Weight is -1.9153416275079436 and Bias is -1.9153416275079436\n",
            "After epoch 21: Weight is -1.9106720330194953 and Bias is -1.9106720330194953\n",
            "After epoch 22: Weight is -1.9059546810539485 and Bias is -1.9059546810539485\n",
            "After epoch 23: Weight is -1.9011885762460716 and Bias is -1.9011885762460716\n",
            "After epoch 24: Weight is -1.8963726907539178 and Bias is -1.8963726907539178\n",
            "After epoch 25: Weight is -1.8915059627978725 and Bias is -1.8915059627978725\n",
            "After epoch 26: Weight is -1.8865872951159148 and Bias is -1.8865872951159148\n",
            "After epoch 27: Weight is -1.88161555332926 and Bias is -1.88161555332926\n",
            "After epoch 28: Weight is -1.8765895642120785 and Bias is -1.8765895642120785\n",
            "After epoch 29: Weight is -1.8715081138584586 and Bias is -1.8715081138584586\n",
            "After epoch 30: Weight is -1.866369945739212 and Bias is -1.866369945739212\n",
            "After epoch 31: Weight is -1.8611737586404924 and Bias is -1.8611737586404924\n",
            "After epoch 32: Weight is -1.8559182044755107 and Bias is -1.8559182044755107\n",
            "After epoch 33: Weight is -1.850601885959873 and Bias is -1.850601885959873\n",
            "After epoch 34: Weight is -1.8452233541402348 and Bias is -1.8452233541402348\n",
            "After epoch 35: Weight is -1.8397811057650524 and Bias is -1.8397811057650524\n",
            "After epoch 36: Weight is -1.8342735804851986 and Bias is -1.8342735804851986\n",
            "After epoch 37: Weight is -1.828699157871098 and Bias is -1.828699157871098\n",
            "After epoch 38: Weight is -1.8230561542318031 and Bias is -1.8230561542318031\n",
            "After epoch 39: Weight is -1.8173428192200731 and Bias is -1.8173428192200731\n",
            "After epoch 40: Weight is -1.8115573322060052 and Bias is -1.8115573322060052\n",
            "After epoch 41: Weight is -1.8056977984000913 and Bias is -1.8056977984000913\n",
            "After epoch 42: Weight is -1.7997622447047201 and Bias is -1.7997622447047201\n",
            "After epoch 43: Weight is -1.7937486152710673 and Bias is -1.7937486152710673\n",
            "After epoch 44: Weight is -1.787654766736018 and Bias is -1.787654766736018\n",
            "After epoch 45: Weight is -1.7814784631111948 and Bias is -1.7814784631111948\n",
            "After epoch 46: Weight is -1.7752173702932887 and Bias is -1.7752173702932887\n",
            "After epoch 47: Weight is -1.7688690501616882 and Bias is -1.7688690501616882\n",
            "After epoch 48: Weight is -1.7624309542257912 and Bias is -1.7624309542257912\n",
            "After epoch 49: Weight is -1.755900416780357 and Bias is -1.755900416780357\n",
            "After epoch 50: Weight is -1.7492746475227052 and Bias is -1.7492746475227052\n",
            "After epoch 51: Weight is -1.7425507235804667 and Bias is -1.7425507235804667\n",
            "After epoch 52: Weight is -1.7357255808928156 and Bias is -1.7357255808928156\n",
            "After epoch 53: Weight is -1.7287960048816031 and Bias is -1.7287960048816031\n",
            "After epoch 54: Weight is -1.7217586203414341 and Bias is -1.7217586203414341\n",
            "After epoch 55: Weight is -1.7146098804693588 and Bias is -1.7146098804693588\n",
            "After epoch 56: Weight is -1.7073460549453492 and Bias is -1.7073460549453492\n",
            "After epoch 57: Weight is -1.699963216963895 and Bias is -1.699963216963895\n",
            "After epoch 58: Weight is -1.6924572291047038 and Bias is -1.6924572291047038\n",
            "After epoch 59: Weight is -1.6848237279163554 and Bias is -1.6848237279163554\n",
            "After epoch 60: Weight is -1.6770581070705644 and Bias is -1.6770581070705644\n",
            "After epoch 61: Weight is -1.6691554989261024 and Bias is -1.6691554989261024\n",
            "After epoch 62: Weight is -1.661110754320002 and Bias is -1.661110754320002\n",
            "After epoch 63: Weight is -1.6529184203789349 and Bias is -1.6529184203789349\n",
            "After epoch 64: Weight is -1.6445727161150294 and Bias is -1.6445727161150294\n",
            "After epoch 65: Weight is -1.6360675055371874 and Bias is -1.6360675055371874\n",
            "After epoch 66: Weight is -1.627396267970303 and Bias is -1.627396267970303\n",
            "After epoch 67: Weight is -1.6185520652297067 and Bias is -1.6185520652297067\n",
            "After epoch 68: Weight is -1.6095275052453808 and Bias is -1.6095275052453808\n",
            "After epoch 69: Weight is -1.6003147016685473 and Bias is -1.6003147016685473\n",
            "After epoch 70: Weight is -1.5909052289202983 and Bias is -1.5909052289202983\n",
            "After epoch 71: Weight is -1.5812900720557501 and Bias is -1.5812900720557501\n",
            "After epoch 72: Weight is -1.5714595707150507 and Bias is -1.5714595707150507\n",
            "After epoch 73: Weight is -1.561403356311022 and Bias is -1.561403356311022\n",
            "After epoch 74: Weight is -1.551110281458083 and Bias is -1.551110281458083\n",
            "After epoch 75: Weight is -1.5405683404731088 and Bias is -1.5405683404731088\n",
            "After epoch 76: Weight is -1.5297645795694634 and Bias is -1.5297645795694634\n",
            "After epoch 77: Weight is -1.518684995112333 and Bias is -1.518684995112333\n",
            "After epoch 78: Weight is -1.507314417996183 and Bias is -1.507314417996183\n",
            "After epoch 79: Weight is -1.4956363818303904 and Bias is -1.4956363818303904\n",
            "After epoch 80: Weight is -1.4836329721597923 and Bias is -1.4836329721597923\n",
            "After epoch 81: Weight is -1.4712846533811699 and Bias is -1.4712846533811699\n",
            "After epoch 82: Weight is -1.4585700693161658 and Bias is -1.4585700693161658\n",
            "After epoch 83: Weight is -1.4454658125288875 and Bias is -1.4454658125288875\n",
            "After epoch 84: Weight is -1.431946156384002 and Bias is -1.431946156384002\n",
            "After epoch 85: Weight is -1.4179827424644837 and Bias is -1.4179827424644837\n",
            "After epoch 86: Weight is -1.4035442142221295 and Bias is -1.4035442142221295\n",
            "After epoch 87: Weight is -1.388595785504251 and Bias is -1.388595785504251\n",
            "After epoch 88: Weight is -1.3730987297320867 and Bias is -1.3730987297320867\n",
            "After epoch 89: Weight is -1.3570097717896585 and Bias is -1.3570097717896585\n",
            "After epoch 90: Weight is -1.3402803598259436 and Bias is -1.3402803598259436\n",
            "After epoch 91: Weight is -1.3228557877751481 and Bias is -1.3228557877751481\n",
            "After epoch 92: Weight is -1.3046741308936092 and Bias is -1.3046741308936092\n",
            "After epoch 93: Weight is -1.2856649451944717 and Bias is -1.2856649451944717\n",
            "After epoch 94: Weight is -1.265747666180898 and Bias is -1.265747666180898\n",
            "After epoch 95: Weight is -1.2448296210632115 and Bias is -1.2448296210632115\n",
            "After epoch 96: Weight is -1.222803539238343 and Bias is -1.222803539238343\n",
            "After epoch 97: Weight is -1.1995444045549952 and Bias is -1.1995444045549952\n",
            "After epoch 98: Weight is -1.1749054342711431 and Bias is -1.1749054342711431\n",
            "After epoch 99: Weight is -1.148712885202649 and Bias is -1.148712885202649\n",
            "After epoch 100: Weight is -1.1207592642998123 and Bias is -1.1207592642998123\n"
          ]
        }
      ],
      "source": [
        "wt_adagrad, bias_adagrad, err_adagrad = adagrad_gd(X, Y, 100)"
      ]
    },
    {
      "cell_type": "code",
      "execution_count": 23,
      "metadata": {
        "colab": {
          "base_uri": "https://localhost:8080/",
          "height": 0
        },
        "id": "17nNXhqOlq8c",
        "outputId": "e8fcf211-7947-4772-a8d2-cb1ba980b3a7"
      },
      "outputs": [
        {
          "data": {
            "image/png": "[encoded data removed]",
            "text/plain": [
              "<Figure size 432x288 with 1 Axes>"
            ]
          },
          "metadata": {
            "needs_background": "light"
          },
          "output_type": "display_data"
        }
      ],
      "source": [
        "plt.plot(epoch, err_adagrad) \n",
        "plt.xlabel(\"Epoch\") \n",
        "plt.ylabel(\"Error\") \n",
        "plt.show()"
      ]
    },
    {
      "cell_type": "code",
      "execution_count": 24,
      "metadata": {
        "colab": {
          "base_uri": "https://localhost:8080/",
          "height": 0
        },
        "id": "UmgBu3bRl1_0",
        "outputId": "ee79edf8-4dec-4a31-c5df-0a07c632af42"
      },
      "outputs": [
        {
          "data": {
            "image/png": "[encoded data removed]",
            "text/plain": [
              "<Figure size 432x288 with 1 Axes>"
            ]
          },
          "metadata": {
            "needs_background": "light"
          },
          "output_type": "display_data"
        }
      ],
      "source": [
        "plt.plot(wt_adagrad, err_adagrad) \n",
        "plt.xlabel(\"Weight\") \n",
        "plt.ylabel(\"Error\") \n",
        "plt.show()"
      ]
    },
    {
      "cell_type": "markdown",
      "metadata": {
        "id": "SpdR-BG1iceP"
      },
      "source": [
        "# **ADADELTA / RMSPROP**"
      ]
    },
    {
      "cell_type": "code",
      "execution_count": 25,
      "metadata": {
        "id": "Zmm0wcI0igg-"
      },
      "outputs": [],
      "source": [
        "def adadelta(X, Y, epochs): \n",
        "  w = -2 \n",
        "  b = -2 \n",
        "  c = 1 \n",
        "  beta = 0.9\n",
        "  eta = 1 \n",
        "  eps = 2  \n",
        "  vw = 0 \n",
        "  vb = 0 \n",
        "  W = [] \n",
        "  B = [] \n",
        "  err_list = [] \n",
        "  for i in range(epochs): \n",
        "    temp_dw = 0 \n",
        "    temp_db = 0 \n",
        "    for x, y in zip(X, Y): \n",
        "      y_hat = sigmoid(x, w, b) \n",
        "      temp_dw += delta_w(x, y, y_hat, c) \n",
        "      temp_db += delta_b(y, y_hat, c) \n",
        "    \n",
        "    vw = beta*vw + (1-beta)*temp_dw*temp_dw \n",
        "    vb = beta*vb + (1-beta)*temp_db*temp_db \n",
        "\n",
        "    w = w - (eta*temp_dw)/(np.sqrt(vw) + eps) \n",
        "    b = b - (eta*temp_db)/(np.sqrt(vb) + eps) \n",
        "\n",
        "    W.append(w) \n",
        "    B.append(b) \n",
        "    err_list.append(error(Y, sigmoid(X, w, b))) \n",
        "    print(f\"After epoch {i+1}: Weight is {w} and Bias is {b}\") \n",
        "  return W, B, err_list "
      ]
    },
    {
      "cell_type": "code",
      "execution_count": 26,
      "metadata": {
        "colab": {
          "base_uri": "https://localhost:8080/"
        },
        "id": "N9vwI_YJn-ng",
        "outputId": "54d0c8e6-7a93-4dde-f2b6-7c0255a33dd9"
      },
      "outputs": [
        {
          "name": "stdout",
          "output_type": "stream",
          "text": [
            "After epoch 1: Weight is -1.997256223120722 and Bias is -1.996149115549856\n",
            "After epoch 2: Weight is -1.9944969137492197 and Bias is -1.9922846915691401\n",
            "After epoch 3: Weight is -1.991721630266128 and Bias is -1.9884061189900286\n",
            "After epoch 4: Weight is -1.9889300439145556 and Bias is -1.9845130209655755\n",
            "After epoch 5: Weight is -1.98612186832929 and Bias is -1.9806051122513006\n",
            "After epoch 6: Weight is -1.9832968374940776 and Bias is -1.9766821551811036\n",
            "After epoch 7: Weight is -1.9804546961420402 and Bias is -1.972743940529913\n",
            "After epoch 8: Weight is -1.9775951947437587 and Bias is -1.9687902775779045\n",
            "After epoch 9: Weight is -1.9747180865583769 and Bias is -1.9648209883258405\n",
            "After epoch 10: Weight is -1.9718231257404712 and Bias is -1.960835903842981\n",
            "After epoch 11: Weight is -1.9689100660390884 and Bias is -1.9568348618169353\n",
            "After epoch 12: Weight is -1.9659786598524254 and Bias is -1.9528177048299284\n",
            "After epoch 13: Weight is -1.963028657507652 and Bias is -1.9487842790987544\n",
            "After epoch 14: Weight is -1.960059806689259 and Bias is -1.9447344335240224\n",
            "After epoch 15: Weight is -1.9570718519686225 and Bias is -1.9406680189533059\n",
            "After epoch 16: Weight is -1.9540645344043166 and Bias is -1.9365848875967595\n",
            "After epoch 17: Weight is -1.9510375911928157 and Bias is -1.9324848925542184\n",
            "After epoch 18: Weight is -1.9479907553555664 and Bias is -1.9283678874255998\n",
            "After epoch 19: Weight is -1.9449237554524867 and Bias is -1.924233725984718\n",
            "After epoch 20: Weight is -1.9418363153146654 and Bias is -1.9200822619021434\n",
            "After epoch 21: Weight is -1.9387281537908851 and Bias is -1.915913348506513\n",
            "After epoch 22: Weight is -1.935598984503877 and Bias is -1.9117268385763306\n",
            "After epoch 23: Weight is -1.9324485156131261 and Bias is -1.9075225841561803\n",
            "After epoch 24: Weight is -1.9292764495817065 and Bias is -1.9033004363926365\n",
            "After epoch 25: Weight is -1.9260824829451026 and Bias is -1.899060245386159\n",
            "After epoch 26: Weight is -1.922866306080328 and Bias is -1.8948018600560153\n",
            "After epoch 27: Weight is -1.9196276029739199 and Bias is -1.8905251280158393\n",
            "After epoch 28: Weight is -1.9163660509875853 and Bias is -1.8862298954578753\n",
            "After epoch 29: Weight is -1.913081320620422 and Bias is -1.881916007044292\n",
            "After epoch 30: Weight is -1.9097730752667557 and Bias is -1.8775833058042173\n",
            "After epoch 31: Weight is -1.9064409709687131 and Bias is -1.8732316330353547\n",
            "After epoch 32: Weight is -1.9030846561627208 and Bias is -1.8688608282092054\n",
            "After epoch 33: Weight is -1.8997037714191556 and Bias is -1.864470728879055\n",
            "After epoch 34: Weight is -1.8962979491744145 and Bias is -1.8600611705899894\n",
            "After epoch 35: Weight is -1.8928668134546833 and Bias is -1.855631986790293\n",
            "After epoch 36: Weight is -1.8894099795906996 and Bias is -1.8511830087436476\n",
            "After epoch 37: Weight is -1.8859270539228072 and Bias is -1.8467140654416088\n",
            "After epoch 38: Weight is -1.8824176334955949 and Bias is -1.8422249835158853\n",
            "After epoch 39: Weight is -1.8788813057414024 and Bias is -1.837715587149976\n",
            "After epoch 40: Weight is -1.8753176481519644 and Bias is -1.8331856979897547\n",
            "After epoch 41: Weight is -1.871726227937438 and Bias is -1.8286351350526113\n",
            "After epoch 42: Weight is -1.868106601672039 and Bias is -1.824063714634778\n",
            "After epoch 43: Weight is -1.8644583149254812 and Bias is -1.8194712502164785\n",
            "After epoch 44: Weight is -1.8607809018793813 and Bias is -1.8148575523645503\n",
            "After epoch 45: Weight is -1.8570738849277484 and Bias is -1.8102224286321915\n",
            "After epoch 46: Weight is -1.853336774260644 and Bias is -1.8055656834554876\n",
            "After epoch 47: Weight is -1.8495690674300431 and Bias is -1.8008871180463706\n",
            "After epoch 48: Weight is -1.845770248896883 and Bias is -1.7961865302816593\n",
            "After epoch 49: Weight is -1.8419397895582241 and Bias is -1.7914637145878225\n",
            "After epoch 50: Weight is -1.838077146253392 and Bias is -1.7867184618210972\n",
            "After epoch 51: Weight is -1.8341817612478992 and Bias is -1.7819505591425828\n",
            "After epoch 52: Weight is -1.8302530616938777 and Bias is -1.7771597898879152\n",
            "After epoch 53: Weight is -1.8262904590656708 and Bias is -1.7723459334311114\n",
            "After epoch 54: Weight is -1.8222933485691548 and Bias is -1.7675087650421533\n",
            "After epoch 55: Weight is -1.8182611085232645 and Bias is -1.7626480557378579\n",
            "After epoch 56: Weight is -1.8141930997121032 and Bias is -1.7577635721255567\n",
            "After epoch 57: Weight is -1.8100886647059082 and Bias is -1.7528550762390798\n",
            "After epoch 58: Weight is -1.8059471271490317 and Bias is -1.7479223253665082\n",
            "After epoch 59: Weight is -1.80176779101297 and Bias is -1.742965071869128\n",
            "After epoch 60: Weight is -1.7975499398123436 and Bias is -1.737983062990979\n",
            "After epoch 61: Weight is -1.7932928357815836 and Bias is -1.7329760406583505\n",
            "After epoch 62: Weight is -1.7889957190099233 and Bias is -1.7279437412685388\n",
            "After epoch 63: Weight is -1.7846578065321277 and Bias is -1.7228858954671222\n",
            "After epoch 64: Weight is -1.7802782913722064 and Bias is -1.7178022279129663\n",
            "After epoch 65: Weight is -1.7758563415371587 and Bias is -1.7126924570301085\n",
            "After epoch 66: Weight is -1.7713910989575847 and Bias is -1.7075562947456109\n",
            "After epoch 67: Weight is -1.766881678371762 and Bias is -1.7023934462123997\n",
            "After epoch 68: Weight is -1.7623271661495323 and Bias is -1.697203609516038\n",
            "After epoch 69: Weight is -1.7577266190520686 and Bias is -1.691986475364293\n",
            "After epoch 70: Weight is -1.7530790629232946 and Bias is -1.6867417267582698\n",
            "After epoch 71: Weight is -1.7483834913083969 and Bias is -1.6814690386437916\n",
            "After epoch 72: Weight is -1.7436388639945215 and Bias is -1.676168077541592\n",
            "After epoch 73: Weight is -1.7388441054683534 and Bias is -1.6708385011547726\n",
            "After epoch 74: Weight is -1.7339981032848573 and Bias is -1.6654799579518529\n",
            "After epoch 75: Weight is -1.7290997063409972 and Bias is -1.6600920867235938\n",
            "After epoch 76: Weight is -1.7241477230477449 and Bias is -1.65467451611163\n",
            "After epoch 77: Weight is -1.7191409193931373 and Bias is -1.6492268641067727\n",
            "After epoch 78: Weight is -1.714078016888536 and Bias is -1.6437487375146607\n",
            "After epoch 79: Weight is -1.7089576903895807 and Bias is -1.638239731386238\n",
            "After epoch 80: Weight is -1.7037785657826003 and Bias is -1.6326994284103091\n",
            "After epoch 81: Weight is -1.698539217526443 and Bias is -1.627127398265177\n",
            "After epoch 82: Weight is -1.693238166038812 and Bias is -1.6215231969261028\n",
            "After epoch 83: Weight is -1.687873874915219 and Bias is -1.6158863659250189\n",
            "After epoch 84: Weight is -1.6824447479676063 and Bias is -1.6102164315586045\n",
            "After epoch 85: Weight is -1.676949126068507 and Bias is -1.6045129040404635\n",
            "After epoch 86: Weight is -1.6713852837853078 and Bias is -1.5987752765927372\n",
            "After epoch 87: Weight is -1.665751425787747 and Bias is -1.593003024472042\n",
            "After epoch 88: Weight is -1.6600456830101773 and Bias is -1.5871956039241177\n",
            "After epoch 89: Weight is -1.6542661085483583 and Bias is -1.5813524510610244\n",
            "After epoch 90: Weight is -1.6484106732685762 and Bias is -1.5754729806541015\n",
            "After epoch 91: Weight is -1.6424772611047063 and Bias is -1.5695565848352269\n",
            "After epoch 92: Weight is -1.6364636640163976 and Bias is -1.563602631698138\n",
            "After epoch 93: Weight is -1.6303675765788483 and Bias is -1.5576104637907258\n",
            "After epoch 94: Weight is -1.6241865901716068 and Bias is -1.5515793964882545\n",
            "After epoch 95: Weight is -1.61791818673045 and Bias is -1.5455087162363816\n",
            "After epoch 96: Weight is -1.6115597320225856 and Bias is -1.5393976786516534\n",
            "After epoch 97: Weight is -1.6051084684011736 and Bias is -1.5332455064657913\n",
            "After epoch 98: Weight is -1.5985615069903676 and Bias is -1.5270513872985576\n",
            "After epoch 99: Weight is -1.5919158192466938 and Bias is -1.5208144712422735\n",
            "After epoch 100: Weight is -1.585168227836503 and Bias is -1.5145338682391065\n"
          ]
        }
      ],
      "source": [
        "wt_adadelta, bias_adadelta, err_adadelta = adadelta(X, Y, 100)"
      ]
    },
    {
      "cell_type": "code",
      "execution_count": 27,
      "metadata": {
        "colab": {
          "base_uri": "https://localhost:8080/",
          "height": 0
        },
        "id": "9mURfZnyoEes",
        "outputId": "cdb29d80-847b-49ef-8d1f-c31f1dd1c509"
      },
      "outputs": [
        {
          "data": {
            "image/png": "[encoded data removed]",
            "text/plain": [
              "<Figure size 432x288 with 1 Axes>"
            ]
          },
          "metadata": {
            "needs_background": "light"
          },
          "output_type": "display_data"
        }
      ],
      "source": [
        "plt.plot(epoch, err_adadelta) \n",
        "plt.xlabel(\"Epoch\") \n",
        "plt.ylabel(\"Error\") \n",
        "plt.show()"
      ]
    },
    {
      "cell_type": "code",
      "execution_count": 28,
      "metadata": {
        "colab": {
          "base_uri": "https://localhost:8080/",
          "height": 0
        },
        "id": "t9HkW6nIoIjv",
        "outputId": "d859fa68-2b68-4221-c9ef-e260ef0b389a"
      },
      "outputs": [
        {
          "data": {
            "image/png": "[encoded data removed]",
            "text/plain": [
              "<Figure size 432x288 with 1 Axes>"
            ]
          },
          "metadata": {
            "needs_background": "light"
          },
          "output_type": "display_data"
        }
      ],
      "source": [
        "plt.plot(wt_adadelta, err_adadelta) \n",
        "plt.xlabel(\"Weights\") \n",
        "plt.ylabel(\"Error\") \n",
        "plt.show()"
      ]
    },
    {
      "cell_type": "markdown",
      "metadata": {
        "id": "_00O8RyfoTi_"
      },
      "source": [
        "# **NAG**"
      ]
    },
    {
      "cell_type": "code",
      "execution_count": 31,
      "metadata": {
        "id": "ilPKKMHaoQUa"
      },
      "outputs": [],
      "source": [
        "def nag_gd(X, Y, epochs): \n",
        "  w = -2 \n",
        "  b = -2 \n",
        "  c = 1 \n",
        "  eta = 1 \n",
        "  beta = 0.9 \n",
        "  W = [] \n",
        "  B = [] \n",
        "  err_list = [] \n",
        "  prev_vw = 0 \n",
        "  prev_vb = 0 \n",
        "  for i in range(epochs): \n",
        "    temp_dw = 0\n",
        "    temp_db = 0 \n",
        "    v_w = w - beta*prev_vw  \n",
        "    v_b = b - beta*prev_vb \n",
        "    for x, y in zip(X, Y): \n",
        "      y_hat = sigmoid(x, v_w, v_b) \n",
        "      temp_dw += delta_w(x, y, y_hat, c) \n",
        "      temp_db += delta_b(y, y_hat, c) \n",
        "    v_w = beta*prev_vw + eta*temp_dw \n",
        "    v_b = beta*prev_vb + eta*temp_db \n",
        "\n",
        "    w = w - v_w \n",
        "    b = b - v_b \n",
        "    prev_vw = v_w \n",
        "    prev_vb = v_b \n",
        "    W.append(w) \n",
        "    B.append(b) \n",
        "    err_list.append(error(Y, sigmoid(X, w, b)))\n",
        "    print(f\"After epoch {i+1}: Weight is {w} and Bias is {b}\") \n",
        "  return W, B, err_list"
      ]
    },
    {
      "cell_type": "code",
      "execution_count": 32,
      "metadata": {
        "colab": {
          "base_uri": "https://localhost:8080/"
        },
        "id": "WedLl-X3rkGH",
        "outputId": "950fd3d4-b14c-40e9-fe74-0724582f8e49"
      },
      "outputs": [
        {
          "name": "stdout",
          "output_type": "stream",
          "text": [
            "After epoch 1: Weight is -1.99450768078436 and Bias is -1.9922888407847856\n",
            "After epoch 2: Weight is -1.9839458048573209 and Bias is -1.9775204120444787\n",
            "After epoch 3: Weight is -1.9686325151111426 and Bias is -1.9562291127349407\n",
            "After epoch 4: Weight is -1.9487882275159392 and Bias is -1.9288428308870547\n",
            "After epoch 5: Weight is -1.9245385014832348 and Bias is -1.8956933523235946\n",
            "After epoch 6: Weight is -1.8959126337084982 and Bias is -1.857024517313151\n",
            "After epoch 7: Weight is -1.86283720259399 and Bias is -1.812998314105477\n",
            "After epoch 8: Weight is -1.8251230554273352 and Bias is -1.7636989429088605\n",
            "After epoch 9: Weight is -1.7824430659823918 and Bias is -1.7091346537418697\n",
            "After epoch 10: Weight is -1.7342959979433499 and Bias is -1.649236757622674\n",
            "After epoch 11: Weight is -1.6799481900565303 and Bias is -1.5838544198344047\n",
            "After epoch 12: Weight is -1.6183378240251194 and Bias is -1.512742183533591\n",
            "After epoch 13: Weight is -1.5479123524324296 and Bias is -1.4355334842315641\n",
            "After epoch 14: Weight is -1.4663386986042461 and Bias is -1.351684742635252\n",
            "After epoch 15: Weight is -1.369952527814614 and Bias is -1.260352784759678\n",
            "After epoch 16: Weight is -1.2526213625092109 and Bias is -1.1601083986262961\n",
            "After epoch 17: Weight is -1.1031326856822603 and Bias is -1.0482054763814492\n",
            "After epoch 18: Weight is -0.8983243061845625 and Bias is -0.9184914250597027\n",
            "After epoch 19: Weight is -0.5824557119348492 and Bias is -0.7547900000787698\n",
            "After epoch 20: Weight is -0.027737143957882182 and Bias is -0.5200477819133624\n",
            "After epoch 21: Weight is 0.5379092720398322 and Bias is -0.3384952177478312\n",
            "After epoch 22: Weight is 0.9964679757297583 and Bias is -0.27025550512499974\n",
            "After epoch 23: Weight is 1.3541026854352465 and Bias is -0.3101848276117367\n",
            "After epoch 24: Weight is 1.6224059407319966 and Bias is -0.44676871882035674\n",
            "After epoch 25: Weight is 1.8133624803577848 and Bias is -0.665316332695765\n",
            "After epoch 26: Weight is 1.9404717608253008 and Bias is -0.946147828604289\n",
            "After epoch 27: Weight is 2.019159777244447 and Bias is -1.2642519121213585\n",
            "After epoch 28: Weight is 2.0647599319759364 and Bias is -1.5937207798109843\n",
            "After epoch 29: Weight is 2.0896841001016644 and Bias is -1.9139091412828246\n",
            "After epoch 30: Weight is 2.102454586269527 and Bias is -2.2119783201169616\n",
            "After epoch 31: Weight is 2.108630353560021 and Bias is -2.481635436049669\n",
            "After epoch 32: Weight is 2.1122296578679 and Bias is -2.7207069651537834\n",
            "After epoch 33: Weight is 2.116736659506586 and Bias is -2.9291627193267726\n",
            "After epoch 34: Weight is 2.1253930350279044 and Bias is -3.1079676864592654\n",
            "After epoch 35: Weight is 2.1408440817178755 and Bias is -3.2586245360183828\n",
            "After epoch 36: Weight is 2.164526096048817 and Bias is -3.383099863917315\n",
            "After epoch 37: Weight is 2.1963220496628013 and Bias is -3.483810735825511\n",
            "After epoch 38: Weight is 2.2347592194111323 and Bias is -3.563489362686903\n",
            "After epoch 39: Weight is 2.277591511711136 and Bias is -3.62494338363957\n",
            "After epoch 40: Weight is 2.3224209989546565 and Bias is -3.67082282357379\n",
            "After epoch 41: Weight is 2.3671284548050244 and Bias is -3.7034711225695456\n",
            "After epoch 42: Weight is 2.4100713034297856 and Bias is -3.724869961946517\n",
            "After epoch 43: Weight is 2.45011187519637 and Bias is -3.7366500479455507\n",
            "After epoch 44: Weight is 2.486555742201824 and Bias is -3.7401352425460956\n",
            "After epoch 45: Weight is 2.51905820104144 and Bias is -3.736396909590195\n",
            "After epoch 46: Weight is 2.5475309263926342 and Bias is -3.7263060180104204\n",
            "After epoch 47: Weight is 2.5720624089167896 and Bias is -3.71057794648417\n",
            "After epoch 48: Weight is 2.5928555631567276 and Bias is -3.689808987797253\n",
            "After epoch 49: Weight is 2.6101812122921646 and Bias is -3.664505366178745\n",
            "After epoch 50: Weight is 2.6243445403229937 and Bias is -3.635106170962854\n",
            "After epoch 51: Weight is 2.6356614357211168 and Bias is -3.6020016249316633\n",
            "After epoch 52: Weight is 2.6444420555223496 and Bias is -3.56554789596305\n",
            "After epoch 53: Weight is 2.6509794939822187 and Bias is -3.526079391743568\n",
            "After epoch 54: Weight is 2.6555419697984957 and Bias is -3.4839192161691197\n",
            "After epoch 55: Weight is 2.6583673939577213 and Bias is -3.439388232272344\n",
            "After epoch 56: Weight is 2.659659541358597 and Bias is -3.3928129701338463\n",
            "After epoch 57: Weight is 2.659585336522421 and Bias is -3.344532433830342\n",
            "After epoch 58: Weight is 2.6582729926796613 and Bias is -3.294903695333081\n",
            "After epoch 59: Weight is 2.6558109261019838 and Bias is -3.244306017211674\n",
            "After epoch 60: Weight is 2.652247508973403 and Bias is -3.1931431293053936\n",
            "After epoch 61: Weight is 2.6475918227754773 and Bias is -3.1418432141753247\n",
            "After epoch 62: Weight is 2.6418156231272922 and Bias is -3.0908561547843694\n",
            "After epoch 63: Weight is 2.6348567171117008 and Bias is -3.0406476887600813\n",
            "After epoch 64: Weight is 2.6266238788346485 and Bias is -2.9916903126425454\n",
            "After epoch 65: Weight is 2.617003290203048 and Bias is -2.9444510852589536\n",
            "After epoch 66: Weight is 2.6058663069278323 and Bias is -2.899376864430271\n",
            "After epoch 67: Weight is 2.593078145053175 and Bias is -2.856877919349663\n",
            "After epoch 68: Weight is 2.578506903365225 and Bias is -2.817311213594351\n",
            "After epoch 69: Weight is 2.562032227559225 and Bias is -2.780964866877144\n",
            "After epoch 70: Weight is 2.5435529197805002 and Bias is -2.748045311371402\n",
            "After epoch 71: Weight is 2.5229929184496727 and Bias is -2.7186684345939423\n",
            "After epoch 72: Weight is 2.5003053080825715 and Bias is -2.6928555702255723\n",
            "After epoch 73: Weight is 2.4754743326966535 and Bias is -2.6705346321868015\n",
            "After epoch 74: Weight is 2.448515729819255 and Bias is -2.6515460847578183\n",
            "After epoch 75: Weight is 2.4194760229842505 and Bias is -2.635652903433824\n",
            "After epoch 76: Weight is 2.3884316649472512 and Bias is -2.622553287002545\n",
            "After epoch 77: Weight is 2.355489080247035 and Bias is -2.611894675583174\n",
            "After epoch 78: Weight is 2.3207866913141784 and Bias is -2.6032876211115785\n",
            "After epoch 79: Weight is 2.284499900479183 and Bias is -2.5963182301980283\n",
            "After epoch 80: Weight is 2.2468496929681097 and Bias is -2.5905582311677966\n",
            "After epoch 81: Weight is 2.2081149376799747 and Bias is -2.5855721942071046\n",
            "After epoch 82: Weight is 2.1686474699206473 and Bias is -2.5809220615941113\n",
            "After epoch 83: Weight is 2.1288875260634126 and Bias is -2.5761699366440975\n",
            "After epoch 84: Weight is 2.0893750798154764 and Bias is -2.570881006508068\n",
            "After epoch 85: Weight is 2.0507504844537254 and Bias is -2.5646293726287093\n",
            "After epoch 86: Weight is 2.0137365669680234 and Bias is -2.557010030693493\n",
            "After epoch 87: Weight is 1.9790956042587784 and Bias is -2.54765963127459\n",
            "After epoch 88: Weight is 1.9475600258141912 and Bias is -2.5362863536993463\n",
            "After epoch 89: Weight is 1.9197451305277955 and Bias is -2.5227053136336828\n",
            "After epoch 90: Weight is 1.8960622378899734 and Bias is -2.506871772765549\n",
            "After epoch 91: Weight is 1.8766556179744425 and Bias is -2.488902421492056\n",
            "After epoch 92: Weight is 1.861381748131618 and Bias is -2.4690769963340324\n",
            "After epoch 93: Weight is 1.8498361543489976 and Bias is -2.447817997390882\n",
            "After epoch 94: Weight is 1.8414182071661567 and Bias is -2.4256525214826907\n",
            "After epoch 95: Weight is 1.835415162675501 and Bias is -2.4031642222447878\n",
            "After epoch 96: Weight is 1.8310862380788717 and Bias is -2.3809439753622526\n",
            "After epoch 97: Weight is 1.8277331706422995 and Bias is -2.359545854682886\n",
            "After epoch 98: Weight is 1.8247511122175462 and Bias is -2.3394522108993656\n",
            "After epoch 99: Weight is 1.821659585903468 and Bias is -2.321049255693941\n",
            "After epoch 100: Weight is 1.8181164553775635 and Bias is -2.304613033948165\n"
          ]
        }
      ],
      "source": [
        "wt_nag, bias_nag, err_nag = nag_gd(X, Y, 100)"
      ]
    },
    {
      "cell_type": "code",
      "execution_count": 33,
      "metadata": {
        "colab": {
          "base_uri": "https://localhost:8080/",
          "height": 279
        },
        "id": "HUdFSENrrog1",
        "outputId": "e5c9116c-1514-46bb-9f46-56b92807d45d"
      },
      "outputs": [
        {
          "data": {
            "image/png": "[encoded data removed]",
            "text/plain": [
              "<Figure size 432x288 with 1 Axes>"
            ]
          },
          "metadata": {
            "needs_background": "light"
          },
          "output_type": "display_data"
        }
      ],
      "source": [
        "plt.plot(epoch, err_nag) \n",
        "plt.xlabel(\"Epoch\") \n",
        "plt.ylabel(\"Error\") \n",
        "plt.show()"
      ]
    },
    {
      "cell_type": "code",
      "execution_count": 34,
      "metadata": {
        "colab": {
          "base_uri": "https://localhost:8080/",
          "height": 279
        },
        "id": "_HwszIPSruec",
        "outputId": "7427d9dd-7c43-4df9-ba92-277d61693e9b"
      },
      "outputs": [
        {
          "data": {
            "image/png": "[encoded data removed]",
            "text/plain": [
              "<Figure size 432x288 with 1 Axes>"
            ]
          },
          "metadata": {
            "needs_background": "light"
          },
          "output_type": "display_data"
        }
      ],
      "source": [
        "plt.plot(wt_nag, err_nag) \n",
        "plt.xlabel(\"Epoch\") \n",
        "plt.ylabel(\"Error\") \n",
        "plt.show()"
      ]
    },
    {
      "cell_type": "markdown",
      "metadata": {
        "id": "pz82TzT5YVNV"
      },
      "source": [
        "# **ADAM**"
      ]
    },
    {
      "cell_type": "code",
      "execution_count": 35,
      "metadata": {
        "id": "jQtZSqh4YXpR"
      },
      "outputs": [],
      "source": [
        "def adam_gd(X, Y, epochs): \n",
        "  w, b, c = -2, -2, 1 \n",
        "  beta1, beta2 = 0.45, 0.85\n",
        "  eta = 1 \n",
        "  mt_w, mt_b = 0, 0 \n",
        "  vt_w, vt_b = 0, 0\n",
        "  eps = 2 \n",
        "  err_list = [] \n",
        "  W = [] \n",
        "  B = [] \n",
        "  for i in range(1, epochs+1): \n",
        "    temp_dw = 0 \n",
        "    temp_db = 0 \n",
        "    for x, y in zip(X, Y): \n",
        "      y_hat = sigmoid(x, w, b)\n",
        "      temp_dw += delta_w(x, y, y_hat, c) \n",
        "      temp_db += delta_b(y, y_hat, c) \n",
        "    \n",
        "    mt_w = beta1*mt_w + eta*temp_dw\n",
        "    mt_b = beta1*mt_b + eta*temp_db \n",
        "\n",
        "    vt_w = beta2*vt_w + (1-beta2)*temp_dw*temp_dw\n",
        "    vt_b = beta2*vt_b + (1-beta2)*temp_db*temp_db \n",
        "\n",
        "    mt_hat_w = mt_w/(1-beta1**i) \n",
        "    vt_hat_w = vt_w/(1-beta2**i) \n",
        "    w = w - (eta*mt_hat_w)/(np.sqrt(vt_hat_w) + eps)\n",
        "\n",
        "    mt_hat_b = mt_b/(1-beta1**i) \n",
        "    vt_hat_b = vt_b/(1-beta2**i) \n",
        "    b = b - (eta*mt_hat_b)/(np.sqrt(vt_hat_b) + eps)\n",
        "\n",
        "    W.append(w) \n",
        "    B.append(b) \n",
        "\n",
        "    err_list.append(error(Y, sigmoid(X, w, b)))\n",
        "    print(f\"After epoch {i+1}: Weight is {w} and Bias is {b}\") \n",
        "  return W, B, err_list"
      ]
    },
    {
      "cell_type": "code",
      "execution_count": 36,
      "metadata": {
        "colab": {
          "base_uri": "https://localhost:8080/"
        },
        "id": "X8aUF_OyatEc",
        "outputId": "7d3085f5-4132-4711-af0e-e287ae90821a"
      },
      "outputs": [
        {
          "name": "stdout",
          "output_type": "stream",
          "text": [
            "After epoch 2: Weight is -1.995020656602947 and Bias is -1.9930167796209848\n",
            "After epoch 3: Weight is -1.990003942379954 and Bias is -1.9859988430558184\n",
            "After epoch 4: Weight is -1.984943630600177 and Bias is -1.9789406583595177\n",
            "After epoch 5: Weight is -1.979834690635686 and Bias is -1.971837888123295\n",
            "After epoch 6: Weight is -1.9746732542084358 and Bias is -1.9646873418112303\n",
            "After epoch 7: Weight is -1.9694563772812923 and Bias is -1.9574867391095685\n",
            "After epoch 8: Weight is -1.9641817526175487 and Bias is -1.950234431939408\n",
            "After epoch 9: Weight is -1.9588474636550728 and Bias is -1.9429291696501176\n",
            "After epoch 10: Weight is -1.9534518074154015 and Bias is -1.9355699319427646\n",
            "After epoch 11: Weight is -1.9479931798422279 and Bias is -1.9281558220225905\n",
            "After epoch 12: Weight is -1.942470006297806 and Bias is -1.9206860029370483\n",
            "After epoch 13: Weight is -1.9368807009509286 and Bias is -1.9131596613968054\n",
            "After epoch 14: Weight is -1.9312236432504943 and Bias is -1.905575987809564\n",
            "After epoch 15: Weight is -1.925497163950394 and Bias is -1.8979341653925415\n",
            "After epoch 16: Weight is -1.9196995362322355 and Bias is -1.8902333641770743\n",
            "After epoch 17: Weight is -1.913828969420463 and Bias is -1.8824727375680579\n",
            "After epoch 18: Weight is -1.9078836039252187 and Bias is -1.8746514201974143\n",
            "After epoch 19: Weight is -1.9018615066836537 and Bias is -1.8667685264074927\n",
            "After epoch 20: Weight is -1.895760666711795 and Bias is -1.8588231490199025\n",
            "After epoch 21: Weight is -1.8895789905574234 and Bias is -1.8508143582121188\n",
            "After epoch 22: Weight is -1.8833142975352064 and Bias is -1.8427412004094996\n",
            "After epoch 23: Weight is -1.8769643146701216 and Bias is -1.834602697143142\n",
            "After epoch 24: Weight is -1.8705266712961925 and Bias is -1.8263978438449864\n",
            "After epoch 25: Weight is -1.8639988932663085 and Bias is -1.8181256085615076\n",
            "After epoch 26: Weight is -1.8573783967312967 and Bias is -1.8097849305716933\n",
            "After epoch 27: Weight is -1.8506624814454347 and Bias is -1.8013747188965437\n",
            "After epoch 28: Weight is -1.8438483235526768 and Bias is -1.792893850687404\n",
            "After epoch 29: Weight is -1.836932967803696 and Bias is -1.7843411694797062\n",
            "After epoch 30: Weight is -1.8299133191487096 and Bias is -1.7757154832974802\n",
            "After epoch 31: Weight is -1.822786133645053 and Bias is -1.767015562592405\n",
            "After epoch 32: Weight is -1.8155480086115763 and Bias is -1.7582401379992865\n",
            "After epoch 33: Weight is -1.8081953719540795 and Bias is -1.7493878978876334\n",
            "After epoch 34: Weight is -1.8007244705770675 and Bias is -1.7404574856864792\n",
            "After epoch 35: Weight is -1.7931313577869297 and Bias is -1.7314474969566684\n",
            "After epoch 36: Weight is -1.7854118795800533 and Bias is -1.722356476181493\n",
            "After epoch 37: Weight is -1.7775616596961374 and Bias is -1.7131829132427125\n",
            "After epoch 38: Weight is -1.7695760833018255 and Bias is -1.7039252395445779\n",
            "After epoch 39: Weight is -1.7614502791524016 and Bias is -1.694581823743371\n",
            "After epoch 40: Weight is -1.7531791000593393 and Bias is -1.6851509670340963\n",
            "After epoch 41: Weight is -1.744757101468492 and Bias is -1.6756308979391346\n",
            "After epoch 42: Weight is -1.736178517927176 and Bias is -1.6660197665357694\n",
            "After epoch 43: Weight is -1.7274372371876612 and Bias is -1.6563156380502952\n",
            "After epoch 44: Weight is -1.7185267716589219 and Bias is -1.6465164857356986\n",
            "After epoch 45: Weight is -1.7094402268770037 and Bias is -1.6366201829373708\n",
            "After epoch 46: Weight is -1.7001702666159235 and Bias is -1.626624494236619\n",
            "After epoch 47: Weight is -1.6907090742043434 and Bias is -1.6165270655444801\n",
            "After epoch 48: Weight is -1.681048309546713 and Bias is -1.6063254129979803\n",
            "After epoch 49: Weight is -1.6711790612692157 and Bias is -1.596016910486917\n",
            "After epoch 50: Weight is -1.6610917933182705 and Bias is -1.585598775610675\n",
            "After epoch 51: Weight is -1.6507762852295906 and Bias is -1.5750680538305881\n",
            "After epoch 52: Weight is -1.6402215651552152 and Bias is -1.5644216005427505\n",
            "After epoch 53: Weight is -1.6294158345800207 and Bias is -1.5536560607474765\n",
            "After epoch 54: Weight is -1.618346383472309 and Bias is -1.5427678459330012\n",
            "After epoch 55: Weight is -1.6069994943881463 and Bias is -1.531753107720183\n",
            "After epoch 56: Weight is -1.5953603337772708 and Bias is -1.5206077077290208\n",
            "After epoch 57: Weight is -1.5834128284084281 and Bias is -1.509327183023035\n",
            "After epoch 58: Weight is -1.5711395244296058 and Bias is -1.4979067063592888\n",
            "After epoch 59: Weight is -1.5585214260856415 and Bias is -1.486341040313995\n",
            "After epoch 60: Weight is -1.545537810508575 and Bias is -1.4746244841584883\n",
            "After epoch 61: Weight is -1.532166014244588 and Bias is -1.4627508121177089\n",
            "After epoch 62: Weight is -1.5183811862459016 and Bias is -1.4507132013400141\n",
            "After epoch 63: Weight is -1.5041560008847963 and Bias is -1.4385041475257152\n",
            "After epoch 64: Weight is -1.4894603230715877 and Bias is -1.426115365679118\n",
            "After epoch 65: Weight is -1.4742608156880064 and Bias is -1.4135376728342224\n",
            "After epoch 66: Weight is -1.4585204771600764 and Bias is -1.400760848816102\n",
            "After epoch 67: Weight is -1.442198093925523 and Bias is -1.3877734700819901\n",
            "After epoch 68: Weight is -1.4252475885754046 and Bias is -1.3745627103611289\n",
            "After epoch 69: Weight is -1.4076172392591508 and Bias is -1.3611141000738505\n",
            "After epoch 70: Weight is -1.389248739107507 and Bias is -1.3474112342093831\n",
            "After epoch 71: Weight is -1.3700760553472087 and Bias is -1.3334354152687349\n",
            "After epoch 72: Weight is -1.3500240356012538 and Bias is -1.3191652137347207\n",
            "After epoch 73: Weight is -1.329006692365894 and Bias is -1.3045759228847547\n",
            "After epoch 74: Weight is -1.3069250740547869 and Bias is -1.2896388769845593\n",
            "After epoch 75: Weight is -1.2836645996943585 and Bias is -1.2743205910632016\n",
            "After epoch 76: Weight is -1.2590916904611187 and Bias is -1.2585816651803032\n",
            "After epoch 77: Weight is -1.2330494689157132 and Bias is -1.2423753742418864\n",
            "After epoch 78: Weight is -1.2053522070492657 and Bias is -1.2256458327466069\n",
            "After epoch 79: Weight is -1.175778073202882 and Bias is -1.208325577258072\n",
            "After epoch 80: Weight is -1.1440595336337094 and Bias is -1.1903323398189705\n",
            "After epoch 81: Weight is -1.1098704719589247 and Bias is -1.1715646799257953\n",
            "After epoch 82: Weight is -1.0728086422283296 and Bias is -1.1518959797985577\n",
            "After epoch 83: Weight is -1.0323713763100575 and Bias is -1.1311660523911484\n",
            "After epoch 84: Weight is -0.9879213716931173 and Bias is -1.109169205645636\n",
            "After epoch 85: Weight is -0.9386376451579284 and Bias is -1.0856369540810702\n",
            "After epoch 86: Weight is -0.883443967521796 and Bias is -1.0602125182755495\n",
            "After epoch 87: Weight is -0.820902772855058 and Bias is -1.0324125920957063\n",
            "After epoch 88: Weight is -0.7490562744651666 and Bias is -1.001569414081501\n",
            "After epoch 89: Weight is -0.6651896049439261 and Bias is -0.966743424591686\n",
            "After epoch 90: Weight is -0.565493022302733 and Bias is -0.9265976283305367\n",
            "After epoch 91: Weight is -0.44465782494916145 and Bias is -0.879248355943283\n",
            "After epoch 92: Weight is -0.29574092806752794 and Bias is -0.8222339235681417\n",
            "After epoch 93: Weight is -0.1118018496251347 and Bias is -0.7532543196427228\n",
            "After epoch 94: Weight is 0.10619774814558461 and Bias is -0.6737016492801247\n",
            "After epoch 95: Weight is 0.3323286444458398 and Bias is -0.5963402837371423\n",
            "After epoch 96: Weight is 0.5195228189990718 and Bias is -0.5431016388480507\n",
            "After epoch 97: Weight is 0.6459922030065407 and Bias is -0.5232276757780675\n",
            "After epoch 98: Weight is 0.7217874985857631 and Bias is -0.5305371656796497\n",
            "After epoch 99: Weight is 0.7647517119962304 and Bias is -0.5551056111683933\n",
            "After epoch 100: Weight is 0.7892175564944969 and Bias is -0.5889101794340059\n",
            "After epoch 101: Weight is 0.804521330631247 and Bias is -0.6266560013413328\n"
          ]
        }
      ],
      "source": [
        "wt_adam, bias_adam, err_adam = adam_gd(X, Y, 100)"
      ]
    },
    {
      "cell_type": "code",
      "execution_count": 37,
      "metadata": {
        "colab": {
          "base_uri": "https://localhost:8080/",
          "height": 279
        },
        "id": "RB5q8Mf6ay2_",
        "outputId": "0f131ca5-c93b-487a-e791-ef267464272c"
      },
      "outputs": [
        {
          "data": {
            "image/png": "[encoded data removed]",
            "text/plain": [
              "<Figure size 432x288 with 1 Axes>"
            ]
          },
          "metadata": {
            "needs_background": "light"
          },
          "output_type": "display_data"
        }
      ],
      "source": [
        "plt.plot(epoch, err_adam) \n",
        "plt.xlabel(\"Epoch\") \n",
        "plt.ylabel(\"Error\") \n",
        "plt.show()"
      ]
    },
    {
      "cell_type": "code",
      "execution_count": 38,
      "metadata": {
        "colab": {
          "base_uri": "https://localhost:8080/",
          "height": 279
        },
        "id": "ir1LLYG4a3kW",
        "outputId": "4d563c21-ba21-43fd-a2a5-939f3b9285c3"
      },
      "outputs": [
        {
          "data": {
            "image/png": "[encoded data removed]",
            "text/plain": [
              "<Figure size 432x288 with 1 Axes>"
            ]
          },
          "metadata": {
            "needs_background": "light"
          },
          "output_type": "display_data"
        }
      ],
      "source": [
        "plt.plot(wt_adam, err_adam) \n",
        "plt.xlabel(\"Weight\") \n",
        "plt.ylabel(\"Error\") \n",
        "plt.show()"
      ]
    },
    {
      "cell_type": "markdown",
      "metadata": {
        "id": "1moBVeL9k_kz"
      },
      "source": [
        "# **ANALYSIS OF ALL GRADIENTS**"
      ]
    },
    {
      "cell_type": "code",
      "execution_count": 39,
      "metadata": {
        "colab": {
          "base_uri": "https://localhost:8080/",
          "height": 592
        },
        "id": "YidUxZg9lCyf",
        "outputId": "a43d191e-7f3f-425a-b403-b8b844f43576"
      },
      "outputs": [
        {
          "data": {
            "image/png": "[encoded data removed]",
            "text/plain": [
              "<Figure size 720x720 with 1 Axes>"
            ]
          },
          "metadata": {
            "needs_background": "light"
          },
          "output_type": "display_data"
        }
      ],
      "source": [
        "plt.figure(figsize=(10, 10)) \n",
        "plt.plot(epoch, err_bgd, color='orange') \n",
        "plt.plot(epoch, err_mb, color='yellow')\n",
        "plt.plot(epoch, err_mom, color='pink') \n",
        "plt.plot(epoch, err_adagrad, color='red')\n",
        "plt.plot(epoch, err_adadelta, color='green') \n",
        "plt.plot(epoch, err_nag, color='blue')\n",
        "plt.plot(epoch, err_adam, color='cyan') \n",
        "plt.legend(['Batch', 'Mini-Batch', 'Momentum', 'AdaGrad', 'AdaDelta', 'NAG', 'ADAM'], loc='best') \n",
        "plt.show()"
      ]
    },
    {
      "cell_type": "code",
      "execution_count": null,
      "metadata": {
        "id": "FeBxjvq97KBq"
      },
      "outputs": [],
      "source": []
    }
  ],
  "metadata": {
    "colab": {
      "collapsed_sections": [
        "zFt22JzpZOg-",
        "CblahkGybdhn",
        "7FVui2t9fR9H",
        "ibY3YQBojMN-",
        "SpdR-BG1iceP",
        "_00O8RyfoTi_"
      ],
      "provenance": []
    },
    "kernelspec": {
      "display_name": "base",
      "language": "python",
      "name": "python3"
    },
    "language_info": {
      "name": "python",
      "version": "3.8.8 (default, Apr 13 2021, 15:08:03) [MSC v.1916 64 bit (AMD64)]"
    },
    "vscode": {
      "interpreter": {
        "hash": "ed48bbe6901af0dc6c0b1ba0398ca2f757978f8fe52893c404caad807bf459ad"
      }
    }
  },
  "nbformat": 4,
  "nbformat_minor": 0
}
